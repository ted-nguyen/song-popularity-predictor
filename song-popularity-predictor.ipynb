{
 "cells": [
  {
   "cell_type": "markdown",
   "metadata": {},
   "source": [
    "## <div align=center>Song Popularity Predictor</div>\n",
    "### <div align=center>By Teddy Nguyen and Steve Rein</div>"
   ]
  },
  {
   "cell_type": "code",
   "execution_count": 1,
   "metadata": {},
   "outputs": [],
   "source": [
    "import pandas as pd\n",
    "import numpy as np\n",
    "import seaborn as sns\n",
    "import matplotlib.pyplot as plt\n",
    "\n",
    "import sklearn as sk\n",
    "from sklearn.model_selection import train_test_split\n",
    "from sklearn.model_selection import KFold, cross_validate\n",
    "from sklearn.tree import DecisionTreeClassifier\n",
    "from sklearn.ensemble import RandomForestClassifier\n",
    "from sklearn.naive_bayes import GaussianNB\n",
    "from sklearn.discriminant_analysis import QuadraticDiscriminantAnalysis\n",
    "from sklearn.neural_network import MLPClassifier\n",
    "from sklearn.ensemble import BaggingClassifier\n",
    "from sklearn.neighbors import KNeighborsClassifier\n",
    "from sklearn.ensemble import AdaBoostClassifier\n",
    "from sklearn.ensemble import GradientBoostingClassifier\n",
    "from sklearn.svm import SVC\n",
    "from sklearn.metrics import make_scorer, accuracy_score, roc_auc_score, confusion_matrix"
   ]
  },
  {
   "cell_type": "code",
   "execution_count": 2,
   "metadata": {},
   "outputs": [],
   "source": [
    "songs_df = pd.read_csv('data.csv')"
   ]
  },
  {
   "cell_type": "code",
   "execution_count": 3,
   "metadata": {
    "scrolled": true
   },
   "outputs": [
    {
     "data": {
      "text/html": [
       "<div>\n",
       "<style scoped>\n",
       "    .dataframe tbody tr th:only-of-type {\n",
       "        vertical-align: middle;\n",
       "    }\n",
       "\n",
       "    .dataframe tbody tr th {\n",
       "        vertical-align: top;\n",
       "    }\n",
       "\n",
       "    .dataframe thead th {\n",
       "        text-align: right;\n",
       "    }\n",
       "</style>\n",
       "<table border=\"1\" class=\"dataframe\">\n",
       "  <thead>\n",
       "    <tr style=\"text-align: right;\">\n",
       "      <th></th>\n",
       "      <th>acousticness</th>\n",
       "      <th>artists</th>\n",
       "      <th>danceability</th>\n",
       "      <th>duration_ms</th>\n",
       "      <th>energy</th>\n",
       "      <th>explicit</th>\n",
       "      <th>id</th>\n",
       "      <th>instrumentalness</th>\n",
       "      <th>key</th>\n",
       "      <th>liveness</th>\n",
       "      <th>loudness</th>\n",
       "      <th>mode</th>\n",
       "      <th>name</th>\n",
       "      <th>popularity</th>\n",
       "      <th>release_date</th>\n",
       "      <th>speechiness</th>\n",
       "      <th>tempo</th>\n",
       "      <th>valence</th>\n",
       "      <th>year</th>\n",
       "    </tr>\n",
       "  </thead>\n",
       "  <tbody>\n",
       "    <tr>\n",
       "      <th>0</th>\n",
       "      <td>0.995</td>\n",
       "      <td>['Carl Woitschach']</td>\n",
       "      <td>0.708</td>\n",
       "      <td>158648</td>\n",
       "      <td>0.1950</td>\n",
       "      <td>0</td>\n",
       "      <td>6KbQ3uYMLKb5jDxLF7wYDD</td>\n",
       "      <td>0.563</td>\n",
       "      <td>10</td>\n",
       "      <td>0.1510</td>\n",
       "      <td>-12.428</td>\n",
       "      <td>1</td>\n",
       "      <td>Singende Bataillone 1. Teil</td>\n",
       "      <td>0</td>\n",
       "      <td>1928</td>\n",
       "      <td>0.0506</td>\n",
       "      <td>118.469</td>\n",
       "      <td>0.7790</td>\n",
       "      <td>1928</td>\n",
       "    </tr>\n",
       "    <tr>\n",
       "      <th>1</th>\n",
       "      <td>0.994</td>\n",
       "      <td>['Robert Schumann', 'Vladimir Horowitz']</td>\n",
       "      <td>0.379</td>\n",
       "      <td>282133</td>\n",
       "      <td>0.0135</td>\n",
       "      <td>0</td>\n",
       "      <td>6KuQTIu1KoTTkLXKrwlLPV</td>\n",
       "      <td>0.901</td>\n",
       "      <td>8</td>\n",
       "      <td>0.0763</td>\n",
       "      <td>-28.454</td>\n",
       "      <td>1</td>\n",
       "      <td>Fantasiestücke, Op. 111: Più tosto lento</td>\n",
       "      <td>0</td>\n",
       "      <td>1928</td>\n",
       "      <td>0.0462</td>\n",
       "      <td>83.972</td>\n",
       "      <td>0.0767</td>\n",
       "      <td>1928</td>\n",
       "    </tr>\n",
       "    <tr>\n",
       "      <th>2</th>\n",
       "      <td>0.604</td>\n",
       "      <td>['Seweryn Goszczyński']</td>\n",
       "      <td>0.749</td>\n",
       "      <td>104300</td>\n",
       "      <td>0.2200</td>\n",
       "      <td>0</td>\n",
       "      <td>6L63VW0PibdM1HDSBoqnoM</td>\n",
       "      <td>0.000</td>\n",
       "      <td>5</td>\n",
       "      <td>0.1190</td>\n",
       "      <td>-19.924</td>\n",
       "      <td>0</td>\n",
       "      <td>Chapter 1.18 - Zamek kaniowski</td>\n",
       "      <td>0</td>\n",
       "      <td>1928</td>\n",
       "      <td>0.9290</td>\n",
       "      <td>107.177</td>\n",
       "      <td>0.8800</td>\n",
       "      <td>1928</td>\n",
       "    </tr>\n",
       "    <tr>\n",
       "      <th>3</th>\n",
       "      <td>0.995</td>\n",
       "      <td>['Francisco Canaro']</td>\n",
       "      <td>0.781</td>\n",
       "      <td>180760</td>\n",
       "      <td>0.1300</td>\n",
       "      <td>0</td>\n",
       "      <td>6M94FkXd15sOAOQYRnWPN8</td>\n",
       "      <td>0.887</td>\n",
       "      <td>1</td>\n",
       "      <td>0.1110</td>\n",
       "      <td>-14.734</td>\n",
       "      <td>0</td>\n",
       "      <td>Bebamos Juntos - Instrumental (Remasterizado)</td>\n",
       "      <td>0</td>\n",
       "      <td>1928-09-25</td>\n",
       "      <td>0.0926</td>\n",
       "      <td>108.003</td>\n",
       "      <td>0.7200</td>\n",
       "      <td>1928</td>\n",
       "    </tr>\n",
       "    <tr>\n",
       "      <th>4</th>\n",
       "      <td>0.990</td>\n",
       "      <td>['Frédéric Chopin', 'Vladimir Horowitz']</td>\n",
       "      <td>0.210</td>\n",
       "      <td>687733</td>\n",
       "      <td>0.2040</td>\n",
       "      <td>0</td>\n",
       "      <td>6N6tiFZ9vLTSOIxkj8qKrd</td>\n",
       "      <td>0.908</td>\n",
       "      <td>11</td>\n",
       "      <td>0.0980</td>\n",
       "      <td>-16.829</td>\n",
       "      <td>1</td>\n",
       "      <td>Polonaise-Fantaisie in A-Flat Major, Op. 61</td>\n",
       "      <td>1</td>\n",
       "      <td>1928</td>\n",
       "      <td>0.0424</td>\n",
       "      <td>62.149</td>\n",
       "      <td>0.0693</td>\n",
       "      <td>1928</td>\n",
       "    </tr>\n",
       "  </tbody>\n",
       "</table>\n",
       "</div>"
      ],
      "text/plain": [
       "   acousticness                                   artists  danceability  \\\n",
       "0         0.995                       ['Carl Woitschach']         0.708   \n",
       "1         0.994  ['Robert Schumann', 'Vladimir Horowitz']         0.379   \n",
       "2         0.604                   ['Seweryn Goszczyński']         0.749   \n",
       "3         0.995                      ['Francisco Canaro']         0.781   \n",
       "4         0.990  ['Frédéric Chopin', 'Vladimir Horowitz']         0.210   \n",
       "\n",
       "   duration_ms  energy  explicit                      id  instrumentalness  \\\n",
       "0       158648  0.1950         0  6KbQ3uYMLKb5jDxLF7wYDD             0.563   \n",
       "1       282133  0.0135         0  6KuQTIu1KoTTkLXKrwlLPV             0.901   \n",
       "2       104300  0.2200         0  6L63VW0PibdM1HDSBoqnoM             0.000   \n",
       "3       180760  0.1300         0  6M94FkXd15sOAOQYRnWPN8             0.887   \n",
       "4       687733  0.2040         0  6N6tiFZ9vLTSOIxkj8qKrd             0.908   \n",
       "\n",
       "   key  liveness  loudness  mode  \\\n",
       "0   10    0.1510   -12.428     1   \n",
       "1    8    0.0763   -28.454     1   \n",
       "2    5    0.1190   -19.924     0   \n",
       "3    1    0.1110   -14.734     0   \n",
       "4   11    0.0980   -16.829     1   \n",
       "\n",
       "                                            name  popularity release_date  \\\n",
       "0                    Singende Bataillone 1. Teil           0         1928   \n",
       "1       Fantasiestücke, Op. 111: Più tosto lento           0         1928   \n",
       "2                 Chapter 1.18 - Zamek kaniowski           0         1928   \n",
       "3  Bebamos Juntos - Instrumental (Remasterizado)           0   1928-09-25   \n",
       "4    Polonaise-Fantaisie in A-Flat Major, Op. 61           1         1928   \n",
       "\n",
       "   speechiness    tempo  valence  year  \n",
       "0       0.0506  118.469   0.7790  1928  \n",
       "1       0.0462   83.972   0.0767  1928  \n",
       "2       0.9290  107.177   0.8800  1928  \n",
       "3       0.0926  108.003   0.7200  1928  \n",
       "4       0.0424   62.149   0.0693  1928  "
      ]
     },
     "execution_count": 3,
     "metadata": {},
     "output_type": "execute_result"
    }
   ],
   "source": [
    "songs_df.head()"
   ]
  },
  {
   "cell_type": "code",
   "execution_count": 4,
   "metadata": {
    "scrolled": true
   },
   "outputs": [
    {
     "data": {
      "text/html": [
       "<div>\n",
       "<style scoped>\n",
       "    .dataframe tbody tr th:only-of-type {\n",
       "        vertical-align: middle;\n",
       "    }\n",
       "\n",
       "    .dataframe tbody tr th {\n",
       "        vertical-align: top;\n",
       "    }\n",
       "\n",
       "    .dataframe thead th {\n",
       "        text-align: right;\n",
       "    }\n",
       "</style>\n",
       "<table border=\"1\" class=\"dataframe\">\n",
       "  <thead>\n",
       "    <tr style=\"text-align: right;\">\n",
       "      <th></th>\n",
       "      <th>acousticness</th>\n",
       "      <th>danceability</th>\n",
       "      <th>duration_ms</th>\n",
       "      <th>energy</th>\n",
       "      <th>explicit</th>\n",
       "      <th>instrumentalness</th>\n",
       "      <th>key</th>\n",
       "      <th>liveness</th>\n",
       "      <th>loudness</th>\n",
       "      <th>mode</th>\n",
       "      <th>popularity</th>\n",
       "      <th>speechiness</th>\n",
       "      <th>tempo</th>\n",
       "      <th>valence</th>\n",
       "      <th>year</th>\n",
       "    </tr>\n",
       "  </thead>\n",
       "  <tbody>\n",
       "    <tr>\n",
       "      <th>count</th>\n",
       "      <td>169909.000000</td>\n",
       "      <td>169909.000000</td>\n",
       "      <td>1.699090e+05</td>\n",
       "      <td>169909.000000</td>\n",
       "      <td>169909.000000</td>\n",
       "      <td>169909.000000</td>\n",
       "      <td>169909.000000</td>\n",
       "      <td>169909.000000</td>\n",
       "      <td>169909.000000</td>\n",
       "      <td>169909.000000</td>\n",
       "      <td>169909.000000</td>\n",
       "      <td>169909.000000</td>\n",
       "      <td>169909.000000</td>\n",
       "      <td>169909.000000</td>\n",
       "      <td>169909.000000</td>\n",
       "    </tr>\n",
       "    <tr>\n",
       "      <th>mean</th>\n",
       "      <td>0.493214</td>\n",
       "      <td>0.538150</td>\n",
       "      <td>2.314062e+05</td>\n",
       "      <td>0.488593</td>\n",
       "      <td>0.084863</td>\n",
       "      <td>0.161937</td>\n",
       "      <td>5.200519</td>\n",
       "      <td>0.206690</td>\n",
       "      <td>-11.370289</td>\n",
       "      <td>0.708556</td>\n",
       "      <td>31.556610</td>\n",
       "      <td>0.094058</td>\n",
       "      <td>116.948017</td>\n",
       "      <td>0.532095</td>\n",
       "      <td>1977.223231</td>\n",
       "    </tr>\n",
       "    <tr>\n",
       "      <th>std</th>\n",
       "      <td>0.376627</td>\n",
       "      <td>0.175346</td>\n",
       "      <td>1.213219e+05</td>\n",
       "      <td>0.267390</td>\n",
       "      <td>0.278679</td>\n",
       "      <td>0.309329</td>\n",
       "      <td>3.515257</td>\n",
       "      <td>0.176796</td>\n",
       "      <td>5.666765</td>\n",
       "      <td>0.454429</td>\n",
       "      <td>21.582614</td>\n",
       "      <td>0.149937</td>\n",
       "      <td>30.726937</td>\n",
       "      <td>0.262408</td>\n",
       "      <td>25.593168</td>\n",
       "    </tr>\n",
       "    <tr>\n",
       "      <th>min</th>\n",
       "      <td>0.000000</td>\n",
       "      <td>0.000000</td>\n",
       "      <td>5.108000e+03</td>\n",
       "      <td>0.000000</td>\n",
       "      <td>0.000000</td>\n",
       "      <td>0.000000</td>\n",
       "      <td>0.000000</td>\n",
       "      <td>0.000000</td>\n",
       "      <td>-60.000000</td>\n",
       "      <td>0.000000</td>\n",
       "      <td>0.000000</td>\n",
       "      <td>0.000000</td>\n",
       "      <td>0.000000</td>\n",
       "      <td>0.000000</td>\n",
       "      <td>1921.000000</td>\n",
       "    </tr>\n",
       "    <tr>\n",
       "      <th>25%</th>\n",
       "      <td>0.094500</td>\n",
       "      <td>0.417000</td>\n",
       "      <td>1.710400e+05</td>\n",
       "      <td>0.263000</td>\n",
       "      <td>0.000000</td>\n",
       "      <td>0.000000</td>\n",
       "      <td>2.000000</td>\n",
       "      <td>0.098400</td>\n",
       "      <td>-14.470000</td>\n",
       "      <td>0.000000</td>\n",
       "      <td>12.000000</td>\n",
       "      <td>0.034900</td>\n",
       "      <td>93.516000</td>\n",
       "      <td>0.322000</td>\n",
       "      <td>1957.000000</td>\n",
       "    </tr>\n",
       "    <tr>\n",
       "      <th>50%</th>\n",
       "      <td>0.492000</td>\n",
       "      <td>0.548000</td>\n",
       "      <td>2.086000e+05</td>\n",
       "      <td>0.481000</td>\n",
       "      <td>0.000000</td>\n",
       "      <td>0.000204</td>\n",
       "      <td>5.000000</td>\n",
       "      <td>0.135000</td>\n",
       "      <td>-10.474000</td>\n",
       "      <td>1.000000</td>\n",
       "      <td>33.000000</td>\n",
       "      <td>0.045000</td>\n",
       "      <td>114.778000</td>\n",
       "      <td>0.544000</td>\n",
       "      <td>1978.000000</td>\n",
       "    </tr>\n",
       "    <tr>\n",
       "      <th>75%</th>\n",
       "      <td>0.888000</td>\n",
       "      <td>0.667000</td>\n",
       "      <td>2.629600e+05</td>\n",
       "      <td>0.710000</td>\n",
       "      <td>0.000000</td>\n",
       "      <td>0.086800</td>\n",
       "      <td>8.000000</td>\n",
       "      <td>0.263000</td>\n",
       "      <td>-7.118000</td>\n",
       "      <td>1.000000</td>\n",
       "      <td>48.000000</td>\n",
       "      <td>0.075400</td>\n",
       "      <td>135.712000</td>\n",
       "      <td>0.749000</td>\n",
       "      <td>1999.000000</td>\n",
       "    </tr>\n",
       "    <tr>\n",
       "      <th>max</th>\n",
       "      <td>0.996000</td>\n",
       "      <td>0.988000</td>\n",
       "      <td>5.403500e+06</td>\n",
       "      <td>1.000000</td>\n",
       "      <td>1.000000</td>\n",
       "      <td>1.000000</td>\n",
       "      <td>11.000000</td>\n",
       "      <td>1.000000</td>\n",
       "      <td>3.855000</td>\n",
       "      <td>1.000000</td>\n",
       "      <td>100.000000</td>\n",
       "      <td>0.969000</td>\n",
       "      <td>244.091000</td>\n",
       "      <td>1.000000</td>\n",
       "      <td>2020.000000</td>\n",
       "    </tr>\n",
       "  </tbody>\n",
       "</table>\n",
       "</div>"
      ],
      "text/plain": [
       "        acousticness   danceability   duration_ms         energy  \\\n",
       "count  169909.000000  169909.000000  1.699090e+05  169909.000000   \n",
       "mean        0.493214       0.538150  2.314062e+05       0.488593   \n",
       "std         0.376627       0.175346  1.213219e+05       0.267390   \n",
       "min         0.000000       0.000000  5.108000e+03       0.000000   \n",
       "25%         0.094500       0.417000  1.710400e+05       0.263000   \n",
       "50%         0.492000       0.548000  2.086000e+05       0.481000   \n",
       "75%         0.888000       0.667000  2.629600e+05       0.710000   \n",
       "max         0.996000       0.988000  5.403500e+06       1.000000   \n",
       "\n",
       "            explicit  instrumentalness            key       liveness  \\\n",
       "count  169909.000000     169909.000000  169909.000000  169909.000000   \n",
       "mean        0.084863          0.161937       5.200519       0.206690   \n",
       "std         0.278679          0.309329       3.515257       0.176796   \n",
       "min         0.000000          0.000000       0.000000       0.000000   \n",
       "25%         0.000000          0.000000       2.000000       0.098400   \n",
       "50%         0.000000          0.000204       5.000000       0.135000   \n",
       "75%         0.000000          0.086800       8.000000       0.263000   \n",
       "max         1.000000          1.000000      11.000000       1.000000   \n",
       "\n",
       "            loudness           mode     popularity    speechiness  \\\n",
       "count  169909.000000  169909.000000  169909.000000  169909.000000   \n",
       "mean      -11.370289       0.708556      31.556610       0.094058   \n",
       "std         5.666765       0.454429      21.582614       0.149937   \n",
       "min       -60.000000       0.000000       0.000000       0.000000   \n",
       "25%       -14.470000       0.000000      12.000000       0.034900   \n",
       "50%       -10.474000       1.000000      33.000000       0.045000   \n",
       "75%        -7.118000       1.000000      48.000000       0.075400   \n",
       "max         3.855000       1.000000     100.000000       0.969000   \n",
       "\n",
       "               tempo        valence           year  \n",
       "count  169909.000000  169909.000000  169909.000000  \n",
       "mean      116.948017       0.532095    1977.223231  \n",
       "std        30.726937       0.262408      25.593168  \n",
       "min         0.000000       0.000000    1921.000000  \n",
       "25%        93.516000       0.322000    1957.000000  \n",
       "50%       114.778000       0.544000    1978.000000  \n",
       "75%       135.712000       0.749000    1999.000000  \n",
       "max       244.091000       1.000000    2020.000000  "
      ]
     },
     "execution_count": 4,
     "metadata": {},
     "output_type": "execute_result"
    }
   ],
   "source": [
    "songs_df.describe()"
   ]
  },
  {
   "cell_type": "code",
   "execution_count": 5,
   "metadata": {},
   "outputs": [],
   "source": [
    "world_df = pd.read_csv('charts_with_audio_info.csv')"
   ]
  },
  {
   "cell_type": "code",
   "execution_count": 6,
   "metadata": {},
   "outputs": [
    {
     "data": {
      "text/html": [
       "<div>\n",
       "<style scoped>\n",
       "    .dataframe tbody tr th:only-of-type {\n",
       "        vertical-align: middle;\n",
       "    }\n",
       "\n",
       "    .dataframe tbody tr th {\n",
       "        vertical-align: top;\n",
       "    }\n",
       "\n",
       "    .dataframe thead th {\n",
       "        text-align: right;\n",
       "    }\n",
       "</style>\n",
       "<table border=\"1\" class=\"dataframe\">\n",
       "  <thead>\n",
       "    <tr style=\"text-align: right;\">\n",
       "      <th></th>\n",
       "      <th>Unnamed: 0</th>\n",
       "      <th>Unnamed: 0.1</th>\n",
       "      <th>Position</th>\n",
       "      <th>Track Name</th>\n",
       "      <th>Artist</th>\n",
       "      <th>Streams</th>\n",
       "      <th>URL</th>\n",
       "      <th>country_code</th>\n",
       "      <th>country_name</th>\n",
       "      <th>danceability</th>\n",
       "      <th>energy</th>\n",
       "      <th>key</th>\n",
       "      <th>loudness</th>\n",
       "      <th>mode</th>\n",
       "      <th>speechiness</th>\n",
       "      <th>acousticness</th>\n",
       "      <th>instrumentalness</th>\n",
       "      <th>liveness</th>\n",
       "      <th>valence</th>\n",
       "      <th>tempo</th>\n",
       "    </tr>\n",
       "  </thead>\n",
       "  <tbody>\n",
       "    <tr>\n",
       "      <th>0</th>\n",
       "      <td>0</td>\n",
       "      <td>0</td>\n",
       "      <td>1</td>\n",
       "      <td>Conversations</td>\n",
       "      <td>Juice WRLD</td>\n",
       "      <td>3452709</td>\n",
       "      <td>https://open.spotify.com/track/2fZTS0VboxRpF0F...</td>\n",
       "      <td>us</td>\n",
       "      <td>United States</td>\n",
       "      <td>0.747</td>\n",
       "      <td>0.622</td>\n",
       "      <td>11.0</td>\n",
       "      <td>-5.825</td>\n",
       "      <td>1.0</td>\n",
       "      <td>0.0838</td>\n",
       "      <td>0.1760</td>\n",
       "      <td>0.0</td>\n",
       "      <td>0.151</td>\n",
       "      <td>0.570</td>\n",
       "      <td>159.930</td>\n",
       "    </tr>\n",
       "    <tr>\n",
       "      <th>1</th>\n",
       "      <td>1</td>\n",
       "      <td>1</td>\n",
       "      <td>2</td>\n",
       "      <td>Come &amp; Go (with Marshmello)</td>\n",
       "      <td>Juice WRLD</td>\n",
       "      <td>3220828</td>\n",
       "      <td>https://open.spotify.com/track/7y7w4tl4MaRC2UM...</td>\n",
       "      <td>us</td>\n",
       "      <td>United States</td>\n",
       "      <td>0.625</td>\n",
       "      <td>0.814</td>\n",
       "      <td>0.0</td>\n",
       "      <td>-5.181</td>\n",
       "      <td>1.0</td>\n",
       "      <td>0.0657</td>\n",
       "      <td>0.0172</td>\n",
       "      <td>0.0</td>\n",
       "      <td>0.158</td>\n",
       "      <td>0.535</td>\n",
       "      <td>144.991</td>\n",
       "    </tr>\n",
       "    <tr>\n",
       "      <th>2</th>\n",
       "      <td>2</td>\n",
       "      <td>2</td>\n",
       "      <td>3</td>\n",
       "      <td>Life's A Mess (feat. Halsey)</td>\n",
       "      <td>Juice WRLD</td>\n",
       "      <td>3094307</td>\n",
       "      <td>https://open.spotify.com/track/4h5N4KyWZMtpeH9...</td>\n",
       "      <td>us</td>\n",
       "      <td>United States</td>\n",
       "      <td>0.630</td>\n",
       "      <td>0.446</td>\n",
       "      <td>1.0</td>\n",
       "      <td>-8.900</td>\n",
       "      <td>1.0</td>\n",
       "      <td>0.0351</td>\n",
       "      <td>0.3370</td>\n",
       "      <td>0.0</td>\n",
       "      <td>0.166</td>\n",
       "      <td>0.177</td>\n",
       "      <td>143.078</td>\n",
       "    </tr>\n",
       "    <tr>\n",
       "      <th>3</th>\n",
       "      <td>3</td>\n",
       "      <td>3</td>\n",
       "      <td>4</td>\n",
       "      <td>Hate The Other Side (with Marshmello feat. Pol...</td>\n",
       "      <td>Juice WRLD</td>\n",
       "      <td>2855162</td>\n",
       "      <td>https://open.spotify.com/track/66FgjA5ZQJJuypF...</td>\n",
       "      <td>us</td>\n",
       "      <td>United States</td>\n",
       "      <td>0.701</td>\n",
       "      <td>0.650</td>\n",
       "      <td>6.0</td>\n",
       "      <td>-6.313</td>\n",
       "      <td>1.0</td>\n",
       "      <td>0.1040</td>\n",
       "      <td>0.2910</td>\n",
       "      <td>0.0</td>\n",
       "      <td>0.112</td>\n",
       "      <td>0.647</td>\n",
       "      <td>90.003</td>\n",
       "    </tr>\n",
       "    <tr>\n",
       "      <th>4</th>\n",
       "      <td>4</td>\n",
       "      <td>4</td>\n",
       "      <td>5</td>\n",
       "      <td>Titanic</td>\n",
       "      <td>Juice WRLD</td>\n",
       "      <td>2826000</td>\n",
       "      <td>https://open.spotify.com/track/1QoG0Yqz1onMsdb...</td>\n",
       "      <td>us</td>\n",
       "      <td>United States</td>\n",
       "      <td>0.568</td>\n",
       "      <td>0.545</td>\n",
       "      <td>1.0</td>\n",
       "      <td>-6.668</td>\n",
       "      <td>0.0</td>\n",
       "      <td>0.0447</td>\n",
       "      <td>0.1680</td>\n",
       "      <td>0.0</td>\n",
       "      <td>0.112</td>\n",
       "      <td>0.234</td>\n",
       "      <td>174.144</td>\n",
       "    </tr>\n",
       "  </tbody>\n",
       "</table>\n",
       "</div>"
      ],
      "text/plain": [
       "   Unnamed: 0  Unnamed: 0.1  Position  \\\n",
       "0           0             0         1   \n",
       "1           1             1         2   \n",
       "2           2             2         3   \n",
       "3           3             3         4   \n",
       "4           4             4         5   \n",
       "\n",
       "                                          Track Name      Artist  Streams  \\\n",
       "0                                      Conversations  Juice WRLD  3452709   \n",
       "1                        Come & Go (with Marshmello)  Juice WRLD  3220828   \n",
       "2                       Life's A Mess (feat. Halsey)  Juice WRLD  3094307   \n",
       "3  Hate The Other Side (with Marshmello feat. Pol...  Juice WRLD  2855162   \n",
       "4                                            Titanic  Juice WRLD  2826000   \n",
       "\n",
       "                                                 URL country_code  \\\n",
       "0  https://open.spotify.com/track/2fZTS0VboxRpF0F...           us   \n",
       "1  https://open.spotify.com/track/7y7w4tl4MaRC2UM...           us   \n",
       "2  https://open.spotify.com/track/4h5N4KyWZMtpeH9...           us   \n",
       "3  https://open.spotify.com/track/66FgjA5ZQJJuypF...           us   \n",
       "4  https://open.spotify.com/track/1QoG0Yqz1onMsdb...           us   \n",
       "\n",
       "    country_name  danceability  energy   key  loudness  mode  speechiness  \\\n",
       "0  United States         0.747   0.622  11.0    -5.825   1.0       0.0838   \n",
       "1  United States         0.625   0.814   0.0    -5.181   1.0       0.0657   \n",
       "2  United States         0.630   0.446   1.0    -8.900   1.0       0.0351   \n",
       "3  United States         0.701   0.650   6.0    -6.313   1.0       0.1040   \n",
       "4  United States         0.568   0.545   1.0    -6.668   0.0       0.0447   \n",
       "\n",
       "   acousticness  instrumentalness  liveness  valence    tempo  \n",
       "0        0.1760               0.0     0.151    0.570  159.930  \n",
       "1        0.0172               0.0     0.158    0.535  144.991  \n",
       "2        0.3370               0.0     0.166    0.177  143.078  \n",
       "3        0.2910               0.0     0.112    0.647   90.003  \n",
       "4        0.1680               0.0     0.112    0.234  174.144  "
      ]
     },
     "execution_count": 6,
     "metadata": {},
     "output_type": "execute_result"
    }
   ],
   "source": [
    "world_df.head()"
   ]
  },
  {
   "cell_type": "code",
   "execution_count": 7,
   "metadata": {},
   "outputs": [
    {
     "data": {
      "text/html": [
       "<div>\n",
       "<style scoped>\n",
       "    .dataframe tbody tr th:only-of-type {\n",
       "        vertical-align: middle;\n",
       "    }\n",
       "\n",
       "    .dataframe tbody tr th {\n",
       "        vertical-align: top;\n",
       "    }\n",
       "\n",
       "    .dataframe thead th {\n",
       "        text-align: right;\n",
       "    }\n",
       "</style>\n",
       "<table border=\"1\" class=\"dataframe\">\n",
       "  <thead>\n",
       "    <tr style=\"text-align: right;\">\n",
       "      <th></th>\n",
       "      <th>Unnamed: 0</th>\n",
       "      <th>Unnamed: 0.1</th>\n",
       "      <th>Position</th>\n",
       "      <th>Streams</th>\n",
       "      <th>danceability</th>\n",
       "      <th>energy</th>\n",
       "      <th>key</th>\n",
       "      <th>loudness</th>\n",
       "      <th>mode</th>\n",
       "      <th>speechiness</th>\n",
       "      <th>acousticness</th>\n",
       "      <th>instrumentalness</th>\n",
       "      <th>liveness</th>\n",
       "      <th>valence</th>\n",
       "      <th>tempo</th>\n",
       "    </tr>\n",
       "  </thead>\n",
       "  <tbody>\n",
       "    <tr>\n",
       "      <th>count</th>\n",
       "      <td>10982.000000</td>\n",
       "      <td>10982.000000</td>\n",
       "      <td>10982.000000</td>\n",
       "      <td>1.098200e+04</td>\n",
       "      <td>10962.000000</td>\n",
       "      <td>10962.000000</td>\n",
       "      <td>10962.000000</td>\n",
       "      <td>10962.000000</td>\n",
       "      <td>10962.000000</td>\n",
       "      <td>10962.000000</td>\n",
       "      <td>10962.000000</td>\n",
       "      <td>10962.000000</td>\n",
       "      <td>10962.000000</td>\n",
       "      <td>10962.000000</td>\n",
       "      <td>10962.000000</td>\n",
       "    </tr>\n",
       "    <tr>\n",
       "      <th>mean</th>\n",
       "      <td>5490.500000</td>\n",
       "      <td>5490.500000</td>\n",
       "      <td>97.665726</td>\n",
       "      <td>4.406471e+04</td>\n",
       "      <td>0.700209</td>\n",
       "      <td>0.642673</td>\n",
       "      <td>5.530560</td>\n",
       "      <td>-6.131556</td>\n",
       "      <td>0.572706</td>\n",
       "      <td>0.118329</td>\n",
       "      <td>0.257479</td>\n",
       "      <td>0.008065</td>\n",
       "      <td>0.171865</td>\n",
       "      <td>0.542633</td>\n",
       "      <td>122.855031</td>\n",
       "    </tr>\n",
       "    <tr>\n",
       "      <th>std</th>\n",
       "      <td>3170.374662</td>\n",
       "      <td>3170.374662</td>\n",
       "      <td>57.547283</td>\n",
       "      <td>1.295812e+05</td>\n",
       "      <td>0.128656</td>\n",
       "      <td>0.151319</td>\n",
       "      <td>3.707983</td>\n",
       "      <td>2.288677</td>\n",
       "      <td>0.494708</td>\n",
       "      <td>0.106048</td>\n",
       "      <td>0.237109</td>\n",
       "      <td>0.061420</td>\n",
       "      <td>0.135477</td>\n",
       "      <td>0.213945</td>\n",
       "      <td>30.085364</td>\n",
       "    </tr>\n",
       "    <tr>\n",
       "      <th>min</th>\n",
       "      <td>0.000000</td>\n",
       "      <td>0.000000</td>\n",
       "      <td>1.000000</td>\n",
       "      <td>1.004000e+03</td>\n",
       "      <td>0.176000</td>\n",
       "      <td>0.080000</td>\n",
       "      <td>0.000000</td>\n",
       "      <td>-18.782000</td>\n",
       "      <td>0.000000</td>\n",
       "      <td>0.023200</td>\n",
       "      <td>0.000055</td>\n",
       "      <td>0.000000</td>\n",
       "      <td>0.018100</td>\n",
       "      <td>0.038200</td>\n",
       "      <td>46.660000</td>\n",
       "    </tr>\n",
       "    <tr>\n",
       "      <th>25%</th>\n",
       "      <td>2745.250000</td>\n",
       "      <td>2745.250000</td>\n",
       "      <td>48.000000</td>\n",
       "      <td>4.718750e+03</td>\n",
       "      <td>0.625000</td>\n",
       "      <td>0.542000</td>\n",
       "      <td>2.000000</td>\n",
       "      <td>-7.352500</td>\n",
       "      <td>0.000000</td>\n",
       "      <td>0.045000</td>\n",
       "      <td>0.068600</td>\n",
       "      <td>0.000000</td>\n",
       "      <td>0.094300</td>\n",
       "      <td>0.381000</td>\n",
       "      <td>97.823000</td>\n",
       "    </tr>\n",
       "    <tr>\n",
       "      <th>50%</th>\n",
       "      <td>5490.500000</td>\n",
       "      <td>5490.500000</td>\n",
       "      <td>96.000000</td>\n",
       "      <td>1.201100e+04</td>\n",
       "      <td>0.717500</td>\n",
       "      <td>0.660000</td>\n",
       "      <td>6.000000</td>\n",
       "      <td>-5.842500</td>\n",
       "      <td>1.000000</td>\n",
       "      <td>0.075700</td>\n",
       "      <td>0.184000</td>\n",
       "      <td>0.000000</td>\n",
       "      <td>0.119000</td>\n",
       "      <td>0.547000</td>\n",
       "      <td>120.019000</td>\n",
       "    </tr>\n",
       "    <tr>\n",
       "      <th>75%</th>\n",
       "      <td>8235.750000</td>\n",
       "      <td>8235.750000</td>\n",
       "      <td>147.000000</td>\n",
       "      <td>4.040875e+04</td>\n",
       "      <td>0.794000</td>\n",
       "      <td>0.753000</td>\n",
       "      <td>9.000000</td>\n",
       "      <td>-4.563250</td>\n",
       "      <td>1.000000</td>\n",
       "      <td>0.159000</td>\n",
       "      <td>0.380000</td>\n",
       "      <td>0.000018</td>\n",
       "      <td>0.195000</td>\n",
       "      <td>0.708000</td>\n",
       "      <td>144.026000</td>\n",
       "    </tr>\n",
       "    <tr>\n",
       "      <th>max</th>\n",
       "      <td>10981.000000</td>\n",
       "      <td>10981.000000</td>\n",
       "      <td>200.000000</td>\n",
       "      <td>3.452709e+06</td>\n",
       "      <td>0.977000</td>\n",
       "      <td>0.990000</td>\n",
       "      <td>11.000000</td>\n",
       "      <td>1.509000</td>\n",
       "      <td>1.000000</td>\n",
       "      <td>0.881000</td>\n",
       "      <td>0.985000</td>\n",
       "      <td>0.966000</td>\n",
       "      <td>0.982000</td>\n",
       "      <td>0.978000</td>\n",
       "      <td>216.334000</td>\n",
       "    </tr>\n",
       "  </tbody>\n",
       "</table>\n",
       "</div>"
      ],
      "text/plain": [
       "         Unnamed: 0  Unnamed: 0.1      Position       Streams  danceability  \\\n",
       "count  10982.000000  10982.000000  10982.000000  1.098200e+04  10962.000000   \n",
       "mean    5490.500000   5490.500000     97.665726  4.406471e+04      0.700209   \n",
       "std     3170.374662   3170.374662     57.547283  1.295812e+05      0.128656   \n",
       "min        0.000000      0.000000      1.000000  1.004000e+03      0.176000   \n",
       "25%     2745.250000   2745.250000     48.000000  4.718750e+03      0.625000   \n",
       "50%     5490.500000   5490.500000     96.000000  1.201100e+04      0.717500   \n",
       "75%     8235.750000   8235.750000    147.000000  4.040875e+04      0.794000   \n",
       "max    10981.000000  10981.000000    200.000000  3.452709e+06      0.977000   \n",
       "\n",
       "             energy           key      loudness          mode   speechiness  \\\n",
       "count  10962.000000  10962.000000  10962.000000  10962.000000  10962.000000   \n",
       "mean       0.642673      5.530560     -6.131556      0.572706      0.118329   \n",
       "std        0.151319      3.707983      2.288677      0.494708      0.106048   \n",
       "min        0.080000      0.000000    -18.782000      0.000000      0.023200   \n",
       "25%        0.542000      2.000000     -7.352500      0.000000      0.045000   \n",
       "50%        0.660000      6.000000     -5.842500      1.000000      0.075700   \n",
       "75%        0.753000      9.000000     -4.563250      1.000000      0.159000   \n",
       "max        0.990000     11.000000      1.509000      1.000000      0.881000   \n",
       "\n",
       "       acousticness  instrumentalness      liveness       valence  \\\n",
       "count  10962.000000      10962.000000  10962.000000  10962.000000   \n",
       "mean       0.257479          0.008065      0.171865      0.542633   \n",
       "std        0.237109          0.061420      0.135477      0.213945   \n",
       "min        0.000055          0.000000      0.018100      0.038200   \n",
       "25%        0.068600          0.000000      0.094300      0.381000   \n",
       "50%        0.184000          0.000000      0.119000      0.547000   \n",
       "75%        0.380000          0.000018      0.195000      0.708000   \n",
       "max        0.985000          0.966000      0.982000      0.978000   \n",
       "\n",
       "              tempo  \n",
       "count  10962.000000  \n",
       "mean     122.855031  \n",
       "std       30.085364  \n",
       "min       46.660000  \n",
       "25%       97.823000  \n",
       "50%      120.019000  \n",
       "75%      144.026000  \n",
       "max      216.334000  "
      ]
     },
     "execution_count": 7,
     "metadata": {},
     "output_type": "execute_result"
    }
   ],
   "source": [
    "world_df.describe()"
   ]
  },
  {
   "cell_type": "markdown",
   "metadata": {},
   "source": [
    "## Data Cleaning"
   ]
  },
  {
   "cell_type": "markdown",
   "metadata": {},
   "source": [
    "Check for null values"
   ]
  },
  {
   "cell_type": "code",
   "execution_count": 8,
   "metadata": {},
   "outputs": [
    {
     "name": "stdout",
     "output_type": "stream",
     "text": [
      "<class 'pandas.core.frame.DataFrame'>\n",
      "RangeIndex: 169909 entries, 0 to 169908\n",
      "Data columns (total 19 columns):\n",
      " #   Column            Non-Null Count   Dtype  \n",
      "---  ------            --------------   -----  \n",
      " 0   acousticness      169909 non-null  float64\n",
      " 1   artists           169909 non-null  object \n",
      " 2   danceability      169909 non-null  float64\n",
      " 3   duration_ms       169909 non-null  int64  \n",
      " 4   energy            169909 non-null  float64\n",
      " 5   explicit          169909 non-null  int64  \n",
      " 6   id                169909 non-null  object \n",
      " 7   instrumentalness  169909 non-null  float64\n",
      " 8   key               169909 non-null  int64  \n",
      " 9   liveness          169909 non-null  float64\n",
      " 10  loudness          169909 non-null  float64\n",
      " 11  mode              169909 non-null  int64  \n",
      " 12  name              169909 non-null  object \n",
      " 13  popularity        169909 non-null  int64  \n",
      " 14  release_date      169909 non-null  object \n",
      " 15  speechiness       169909 non-null  float64\n",
      " 16  tempo             169909 non-null  float64\n",
      " 17  valence           169909 non-null  float64\n",
      " 18  year              169909 non-null  int64  \n",
      "dtypes: float64(9), int64(6), object(4)\n",
      "memory usage: 24.6+ MB\n"
     ]
    }
   ],
   "source": [
    "songs_df.info()"
   ]
  },
  {
   "cell_type": "code",
   "execution_count": 9,
   "metadata": {},
   "outputs": [
    {
     "data": {
      "text/plain": [
       "acousticness        0\n",
       "artists             0\n",
       "danceability        0\n",
       "duration_ms         0\n",
       "energy              0\n",
       "explicit            0\n",
       "id                  0\n",
       "instrumentalness    0\n",
       "key                 0\n",
       "liveness            0\n",
       "loudness            0\n",
       "mode                0\n",
       "name                0\n",
       "popularity          0\n",
       "release_date        0\n",
       "speechiness         0\n",
       "tempo               0\n",
       "valence             0\n",
       "year                0\n",
       "dtype: int64"
      ]
     },
     "execution_count": 9,
     "metadata": {},
     "output_type": "execute_result"
    }
   ],
   "source": [
    "songs_df.isna().sum()"
   ]
  },
  {
   "cell_type": "code",
   "execution_count": 10,
   "metadata": {},
   "outputs": [
    {
     "name": "stdout",
     "output_type": "stream",
     "text": [
      "<class 'pandas.core.frame.DataFrame'>\n",
      "RangeIndex: 10982 entries, 0 to 10981\n",
      "Data columns (total 20 columns):\n",
      " #   Column            Non-Null Count  Dtype  \n",
      "---  ------            --------------  -----  \n",
      " 0   Unnamed: 0        10982 non-null  int64  \n",
      " 1   Unnamed: 0.1      10982 non-null  int64  \n",
      " 2   Position          10982 non-null  int64  \n",
      " 3   Track Name        10982 non-null  object \n",
      " 4   Artist            10982 non-null  object \n",
      " 5   Streams           10982 non-null  int64  \n",
      " 6   URL               10982 non-null  object \n",
      " 7   country_code      10982 non-null  object \n",
      " 8   country_name      10982 non-null  object \n",
      " 9   danceability      10962 non-null  float64\n",
      " 10  energy            10962 non-null  float64\n",
      " 11  key               10962 non-null  float64\n",
      " 12  loudness          10962 non-null  float64\n",
      " 13  mode              10962 non-null  float64\n",
      " 14  speechiness       10962 non-null  float64\n",
      " 15  acousticness      10962 non-null  float64\n",
      " 16  instrumentalness  10962 non-null  float64\n",
      " 17  liveness          10962 non-null  float64\n",
      " 18  valence           10962 non-null  float64\n",
      " 19  tempo             10962 non-null  float64\n",
      "dtypes: float64(11), int64(4), object(5)\n",
      "memory usage: 1.7+ MB\n"
     ]
    }
   ],
   "source": [
    "world_df.info()"
   ]
  },
  {
   "cell_type": "code",
   "execution_count": 11,
   "metadata": {},
   "outputs": [
    {
     "data": {
      "text/plain": [
       "Unnamed: 0           0\n",
       "Unnamed: 0.1         0\n",
       "Position             0\n",
       "Track Name           0\n",
       "Artist               0\n",
       "Streams              0\n",
       "URL                  0\n",
       "country_code         0\n",
       "country_name         0\n",
       "danceability        20\n",
       "energy              20\n",
       "key                 20\n",
       "loudness            20\n",
       "mode                20\n",
       "speechiness         20\n",
       "acousticness        20\n",
       "instrumentalness    20\n",
       "liveness            20\n",
       "valence             20\n",
       "tempo               20\n",
       "dtype: int64"
      ]
     },
     "execution_count": 11,
     "metadata": {},
     "output_type": "execute_result"
    }
   ],
   "source": [
    "world_df.isna().sum()"
   ]
  },
  {
   "cell_type": "code",
   "execution_count": 12,
   "metadata": {},
   "outputs": [],
   "source": [
    "# Remove tracks with Na values\n",
    "world_df.dropna(inplace=True)"
   ]
  },
  {
   "cell_type": "code",
   "execution_count": 13,
   "metadata": {},
   "outputs": [
    {
     "data": {
      "text/plain": [
       "10962"
      ]
     },
     "execution_count": 13,
     "metadata": {},
     "output_type": "execute_result"
    }
   ],
   "source": [
    "len(world_df)"
   ]
  },
  {
   "cell_type": "code",
   "execution_count": 14,
   "metadata": {},
   "outputs": [
    {
     "data": {
      "text/plain": [
       "True"
      ]
     },
     "execution_count": 14,
     "metadata": {},
     "output_type": "execute_result"
    }
   ],
   "source": [
    "len(world_df) + 20 == 10982"
   ]
  },
  {
   "cell_type": "code",
   "execution_count": 15,
   "metadata": {},
   "outputs": [],
   "source": [
    "# Only keep the track name and the country the song was from\n",
    "world_df = world_df[['Track Name', 'country_name']]"
   ]
  },
  {
   "cell_type": "code",
   "execution_count": 16,
   "metadata": {},
   "outputs": [
    {
     "data": {
      "text/html": [
       "<div>\n",
       "<style scoped>\n",
       "    .dataframe tbody tr th:only-of-type {\n",
       "        vertical-align: middle;\n",
       "    }\n",
       "\n",
       "    .dataframe tbody tr th {\n",
       "        vertical-align: top;\n",
       "    }\n",
       "\n",
       "    .dataframe thead th {\n",
       "        text-align: right;\n",
       "    }\n",
       "</style>\n",
       "<table border=\"1\" class=\"dataframe\">\n",
       "  <thead>\n",
       "    <tr style=\"text-align: right;\">\n",
       "      <th></th>\n",
       "      <th>name</th>\n",
       "      <th>country</th>\n",
       "    </tr>\n",
       "  </thead>\n",
       "  <tbody>\n",
       "    <tr>\n",
       "      <th>0</th>\n",
       "      <td>Conversations</td>\n",
       "      <td>United States</td>\n",
       "    </tr>\n",
       "    <tr>\n",
       "      <th>1</th>\n",
       "      <td>Come &amp; Go (with Marshmello)</td>\n",
       "      <td>United States</td>\n",
       "    </tr>\n",
       "    <tr>\n",
       "      <th>2</th>\n",
       "      <td>Life's A Mess (feat. Halsey)</td>\n",
       "      <td>United States</td>\n",
       "    </tr>\n",
       "    <tr>\n",
       "      <th>3</th>\n",
       "      <td>Hate The Other Side (with Marshmello feat. Pol...</td>\n",
       "      <td>United States</td>\n",
       "    </tr>\n",
       "    <tr>\n",
       "      <th>4</th>\n",
       "      <td>Titanic</td>\n",
       "      <td>United States</td>\n",
       "    </tr>\n",
       "  </tbody>\n",
       "</table>\n",
       "</div>"
      ],
      "text/plain": [
       "                                                name        country\n",
       "0                                      Conversations  United States\n",
       "1                        Come & Go (with Marshmello)  United States\n",
       "2                       Life's A Mess (feat. Halsey)  United States\n",
       "3  Hate The Other Side (with Marshmello feat. Pol...  United States\n",
       "4                                            Titanic  United States"
      ]
     },
     "execution_count": 16,
     "metadata": {},
     "output_type": "execute_result"
    }
   ],
   "source": [
    "world_df.columns = ['name', 'country']\n",
    "world_df.head()"
   ]
  },
  {
   "cell_type": "code",
   "execution_count": 17,
   "metadata": {},
   "outputs": [],
   "source": [
    "# Create a new DataFrame from merging songs_df with world_df\n",
    "songs_w_country_df = songs_df.merge(world_df, how='left')"
   ]
  },
  {
   "cell_type": "code",
   "execution_count": 18,
   "metadata": {},
   "outputs": [],
   "source": [
    "# Fill NaN values in the country column with 'Missing'\n",
    "songs_w_country_df['country'].fillna('Missing', inplace=True)"
   ]
  },
  {
   "cell_type": "code",
   "execution_count": 19,
   "metadata": {},
   "outputs": [
    {
     "data": {
      "text/html": [
       "<div>\n",
       "<style scoped>\n",
       "    .dataframe tbody tr th:only-of-type {\n",
       "        vertical-align: middle;\n",
       "    }\n",
       "\n",
       "    .dataframe tbody tr th {\n",
       "        vertical-align: top;\n",
       "    }\n",
       "\n",
       "    .dataframe thead th {\n",
       "        text-align: right;\n",
       "    }\n",
       "</style>\n",
       "<table border=\"1\" class=\"dataframe\">\n",
       "  <thead>\n",
       "    <tr style=\"text-align: right;\">\n",
       "      <th></th>\n",
       "      <th>acousticness</th>\n",
       "      <th>artists</th>\n",
       "      <th>danceability</th>\n",
       "      <th>duration_ms</th>\n",
       "      <th>energy</th>\n",
       "      <th>explicit</th>\n",
       "      <th>id</th>\n",
       "      <th>instrumentalness</th>\n",
       "      <th>key</th>\n",
       "      <th>liveness</th>\n",
       "      <th>loudness</th>\n",
       "      <th>mode</th>\n",
       "      <th>name</th>\n",
       "      <th>popularity</th>\n",
       "      <th>release_date</th>\n",
       "      <th>speechiness</th>\n",
       "      <th>tempo</th>\n",
       "      <th>valence</th>\n",
       "      <th>year</th>\n",
       "      <th>country</th>\n",
       "    </tr>\n",
       "  </thead>\n",
       "  <tbody>\n",
       "    <tr>\n",
       "      <th>0</th>\n",
       "      <td>0.995</td>\n",
       "      <td>['Carl Woitschach']</td>\n",
       "      <td>0.708</td>\n",
       "      <td>158648</td>\n",
       "      <td>0.1950</td>\n",
       "      <td>0</td>\n",
       "      <td>6KbQ3uYMLKb5jDxLF7wYDD</td>\n",
       "      <td>0.563</td>\n",
       "      <td>10</td>\n",
       "      <td>0.1510</td>\n",
       "      <td>-12.428</td>\n",
       "      <td>1</td>\n",
       "      <td>Singende Bataillone 1. Teil</td>\n",
       "      <td>0</td>\n",
       "      <td>1928</td>\n",
       "      <td>0.0506</td>\n",
       "      <td>118.469</td>\n",
       "      <td>0.7790</td>\n",
       "      <td>1928</td>\n",
       "      <td>Missing</td>\n",
       "    </tr>\n",
       "    <tr>\n",
       "      <th>1</th>\n",
       "      <td>0.994</td>\n",
       "      <td>['Robert Schumann', 'Vladimir Horowitz']</td>\n",
       "      <td>0.379</td>\n",
       "      <td>282133</td>\n",
       "      <td>0.0135</td>\n",
       "      <td>0</td>\n",
       "      <td>6KuQTIu1KoTTkLXKrwlLPV</td>\n",
       "      <td>0.901</td>\n",
       "      <td>8</td>\n",
       "      <td>0.0763</td>\n",
       "      <td>-28.454</td>\n",
       "      <td>1</td>\n",
       "      <td>Fantasiestücke, Op. 111: Più tosto lento</td>\n",
       "      <td>0</td>\n",
       "      <td>1928</td>\n",
       "      <td>0.0462</td>\n",
       "      <td>83.972</td>\n",
       "      <td>0.0767</td>\n",
       "      <td>1928</td>\n",
       "      <td>Missing</td>\n",
       "    </tr>\n",
       "    <tr>\n",
       "      <th>2</th>\n",
       "      <td>0.604</td>\n",
       "      <td>['Seweryn Goszczyński']</td>\n",
       "      <td>0.749</td>\n",
       "      <td>104300</td>\n",
       "      <td>0.2200</td>\n",
       "      <td>0</td>\n",
       "      <td>6L63VW0PibdM1HDSBoqnoM</td>\n",
       "      <td>0.000</td>\n",
       "      <td>5</td>\n",
       "      <td>0.1190</td>\n",
       "      <td>-19.924</td>\n",
       "      <td>0</td>\n",
       "      <td>Chapter 1.18 - Zamek kaniowski</td>\n",
       "      <td>0</td>\n",
       "      <td>1928</td>\n",
       "      <td>0.9290</td>\n",
       "      <td>107.177</td>\n",
       "      <td>0.8800</td>\n",
       "      <td>1928</td>\n",
       "      <td>Missing</td>\n",
       "    </tr>\n",
       "    <tr>\n",
       "      <th>3</th>\n",
       "      <td>0.995</td>\n",
       "      <td>['Francisco Canaro']</td>\n",
       "      <td>0.781</td>\n",
       "      <td>180760</td>\n",
       "      <td>0.1300</td>\n",
       "      <td>0</td>\n",
       "      <td>6M94FkXd15sOAOQYRnWPN8</td>\n",
       "      <td>0.887</td>\n",
       "      <td>1</td>\n",
       "      <td>0.1110</td>\n",
       "      <td>-14.734</td>\n",
       "      <td>0</td>\n",
       "      <td>Bebamos Juntos - Instrumental (Remasterizado)</td>\n",
       "      <td>0</td>\n",
       "      <td>1928-09-25</td>\n",
       "      <td>0.0926</td>\n",
       "      <td>108.003</td>\n",
       "      <td>0.7200</td>\n",
       "      <td>1928</td>\n",
       "      <td>Missing</td>\n",
       "    </tr>\n",
       "    <tr>\n",
       "      <th>4</th>\n",
       "      <td>0.990</td>\n",
       "      <td>['Frédéric Chopin', 'Vladimir Horowitz']</td>\n",
       "      <td>0.210</td>\n",
       "      <td>687733</td>\n",
       "      <td>0.2040</td>\n",
       "      <td>0</td>\n",
       "      <td>6N6tiFZ9vLTSOIxkj8qKrd</td>\n",
       "      <td>0.908</td>\n",
       "      <td>11</td>\n",
       "      <td>0.0980</td>\n",
       "      <td>-16.829</td>\n",
       "      <td>1</td>\n",
       "      <td>Polonaise-Fantaisie in A-Flat Major, Op. 61</td>\n",
       "      <td>1</td>\n",
       "      <td>1928</td>\n",
       "      <td>0.0424</td>\n",
       "      <td>62.149</td>\n",
       "      <td>0.0693</td>\n",
       "      <td>1928</td>\n",
       "      <td>Missing</td>\n",
       "    </tr>\n",
       "  </tbody>\n",
       "</table>\n",
       "</div>"
      ],
      "text/plain": [
       "   acousticness                                   artists  danceability  \\\n",
       "0         0.995                       ['Carl Woitschach']         0.708   \n",
       "1         0.994  ['Robert Schumann', 'Vladimir Horowitz']         0.379   \n",
       "2         0.604                   ['Seweryn Goszczyński']         0.749   \n",
       "3         0.995                      ['Francisco Canaro']         0.781   \n",
       "4         0.990  ['Frédéric Chopin', 'Vladimir Horowitz']         0.210   \n",
       "\n",
       "   duration_ms  energy  explicit                      id  instrumentalness  \\\n",
       "0       158648  0.1950         0  6KbQ3uYMLKb5jDxLF7wYDD             0.563   \n",
       "1       282133  0.0135         0  6KuQTIu1KoTTkLXKrwlLPV             0.901   \n",
       "2       104300  0.2200         0  6L63VW0PibdM1HDSBoqnoM             0.000   \n",
       "3       180760  0.1300         0  6M94FkXd15sOAOQYRnWPN8             0.887   \n",
       "4       687733  0.2040         0  6N6tiFZ9vLTSOIxkj8qKrd             0.908   \n",
       "\n",
       "   key  liveness  loudness  mode  \\\n",
       "0   10    0.1510   -12.428     1   \n",
       "1    8    0.0763   -28.454     1   \n",
       "2    5    0.1190   -19.924     0   \n",
       "3    1    0.1110   -14.734     0   \n",
       "4   11    0.0980   -16.829     1   \n",
       "\n",
       "                                            name  popularity release_date  \\\n",
       "0                    Singende Bataillone 1. Teil           0         1928   \n",
       "1       Fantasiestücke, Op. 111: Più tosto lento           0         1928   \n",
       "2                 Chapter 1.18 - Zamek kaniowski           0         1928   \n",
       "3  Bebamos Juntos - Instrumental (Remasterizado)           0   1928-09-25   \n",
       "4    Polonaise-Fantaisie in A-Flat Major, Op. 61           1         1928   \n",
       "\n",
       "   speechiness    tempo  valence  year  country  \n",
       "0       0.0506  118.469   0.7790  1928  Missing  \n",
       "1       0.0462   83.972   0.0767  1928  Missing  \n",
       "2       0.9290  107.177   0.8800  1928  Missing  \n",
       "3       0.0926  108.003   0.7200  1928  Missing  \n",
       "4       0.0424   62.149   0.0693  1928  Missing  "
      ]
     },
     "execution_count": 19,
     "metadata": {},
     "output_type": "execute_result"
    }
   ],
   "source": [
    "songs_w_country_df.head()"
   ]
  },
  {
   "cell_type": "markdown",
   "metadata": {},
   "source": [
    "## Data Descriptions"
   ]
  },
  {
   "cell_type": "markdown",
   "metadata": {},
   "source": [
    "After cleaning the DataFrame songs_df, it contains one track/song per row. The columns are:\n",
    "<ul>\n",
    "<li><b>name</b>: Title of the track\n",
    "<li><b>id</b>: Id of track generated by Spotify\n",
    "<li><b>acousticness</b>: The relative metric of the track being acoustic (ranges [0-1])\n",
    "<li><b>danceability</b>: The relative measurement of the track being danceable (ranges [0-1])\n",
    "<li><b>energy</b>: The energy of track (ranges [0-1])\n",
    "<li><b>duration_ms</b>: The length of the track in milliseconds (ms)\n",
    "<li><b>instrumentalness</b>: The relative ratio of the track being instrumental (ranges [0-1])\n",
    "<li><b>valence</b>: The positiveness of the track (ranges [0-1])\n",
    "<li><b>tempo</b>: The tempo of the track in beats per minute (ranges ~[50-150])\n",
    "<li><b>liveness</b>: The relative duration of the track sounding as a live performance (ranges [0-1])\n",
    "<li><b>loudness</b>: The relative loudness of the track typically in the range [-60, 0] decibel (dB)\n",
    "<li><b>speechiness</b>: The relative length of the track containing any kind of human voice (rangse [0-1])\n",
    "<li><b>year</b>: The release year of the track (1921-2020)\n",
    "<li><b>mode</b> The binary value representing whether the track starts with a major (1) chord progression or not (0)\n",
    "<li><b>explicit</b>: The binary value whether the track contains explicit content (1) or not (0)\n",
    "<li><b>key</b>: The primary key of the track encoded as integers between 0 and 11\n",
    "<li><b>artists</b>: The list of artists credited for production of the track\n",
    "<li><b>release_date</b>: The date of release of the track in yyyy-mm-dd, yyyy-mm, or even yyyy\n",
    "<li><b>popularity</b>: The popularity of the song (ranges [0-100])\n",
    "<li><b>popular</b>: Binary value that indicates whether a track is popular or not. This is the dependent variable that will be integrated after the data exploration.\n",
    "</ul>"
   ]
  },
  {
   "cell_type": "markdown",
   "metadata": {},
   "source": [
    "After cleaning the DataFrame world_df, it also contains one track/song per row. The columns are:\n",
    "<ul>\n",
    "<li><b>Track Name</b>: Title of the track\n",
    "<li><b>Artist</b>: Artist of the track\n",
    "<li><b>Streams</b>: Number of streams/plays\n",
    "<li><b>country_code</b>: Unique country code idenitifer\n",
    "<li><b>country</b>: Country the track originated from\n",
    "<li><b>id</b>: Id of track generated by Spotify\n",
    "<li><b>acousticness</b>: The relative metric of the track being acoustic (ranges [0-1])\n",
    "<li><b>danceability</b>: The relative measurement of the track being danceable (ranges [0-1])\n",
    "<li><b>energy</b>: The energy of track (ranges [0-1])\n",
    "<li><b>instrumentalness</b>: The relative ratio of the track being instrumental (ranges [0-1])\n",
    "<li><b>valence</b>: The positiveness of the track (ranges [0-1])\n",
    "<li><b>tempo</b>: The tempo of the track in beats per minute (ranges ~[50-150])\n",
    "<li><b>liveness</b>: The relative duration of the track sounding as a live performance (ranges [0-1])\n",
    "<li><b>loudness</b>: The relative loudness of the track typically in the range [-60, 0] decibel (dB)\n",
    "<li><b>speechiness</b>: The relative length of the track containing any kind of human voice (rangse [0-1])\n",
    "<li><b>year</b>: The release year of the track (1921-2020)\n",
    "<li><b>mode</b> The binary value representing whether the track starts with a major (1) chord progression or not (0)\n",
    "<li><b>key</b>: The primary key of the track encoded as integers between 0 and 11\n",
    "</ul>"
   ]
  },
  {
   "cell_type": "markdown",
   "metadata": {},
   "source": [
    "After cleaning the DataFrame songs_w_country_df, it contains one track/song per row. The columns are the same as songs_df with the addition of the country column."
   ]
  },
  {
   "cell_type": "markdown",
   "metadata": {},
   "source": [
    "## Data Exploration"
   ]
  },
  {
   "cell_type": "markdown",
   "metadata": {},
   "source": [
    "We want to explore the datasets further by looking at the feature importance, any trends in the dataset, and identifying optimal values for these features."
   ]
  },
  {
   "cell_type": "markdown",
   "metadata": {},
   "source": [
    "### Determine threshold for whether a song is considered popular or not"
   ]
  },
  {
   "cell_type": "code",
   "execution_count": 20,
   "metadata": {},
   "outputs": [
    {
     "data": {
      "text/plain": [
       "Text(0.5, 1.0, 'Popularity Distribution')"
      ]
     },
     "execution_count": 20,
     "metadata": {},
     "output_type": "execute_result"
    },
    {
     "data": {
      "image/png": "[encoded data removed]",
      "text/plain": [
       "<Figure size 432x288 with 1 Axes>"
      ]
     },
     "metadata": {
      "needs_background": "light"
     },
     "output_type": "display_data"
    }
   ],
   "source": [
    "sns.distplot(songs_df.popularity, bins=50).set_title('Popularity Distribution')"
   ]
  },
  {
   "cell_type": "code",
   "execution_count": 21,
   "metadata": {},
   "outputs": [
    {
     "data": {
      "text/plain": [
       "33.0"
      ]
     },
     "execution_count": 21,
     "metadata": {},
     "output_type": "execute_result"
    }
   ],
   "source": [
    "# Check median instead of mean since the graph is skewed left due to high number of songs ranked 0 for popularity\n",
    "songs_df.popularity.median()"
   ]
  },
  {
   "cell_type": "code",
   "execution_count": 22,
   "metadata": {},
   "outputs": [
    {
     "data": {
      "text/html": [
       "<div>\n",
       "<style scoped>\n",
       "    .dataframe tbody tr th:only-of-type {\n",
       "        vertical-align: middle;\n",
       "    }\n",
       "\n",
       "    .dataframe tbody tr th {\n",
       "        vertical-align: top;\n",
       "    }\n",
       "\n",
       "    .dataframe thead th {\n",
       "        text-align: right;\n",
       "    }\n",
       "</style>\n",
       "<table border=\"1\" class=\"dataframe\">\n",
       "  <thead>\n",
       "    <tr style=\"text-align: right;\">\n",
       "      <th></th>\n",
       "      <th>acousticness</th>\n",
       "      <th>artists</th>\n",
       "      <th>danceability</th>\n",
       "      <th>duration_ms</th>\n",
       "      <th>energy</th>\n",
       "      <th>explicit</th>\n",
       "      <th>id</th>\n",
       "      <th>instrumentalness</th>\n",
       "      <th>key</th>\n",
       "      <th>liveness</th>\n",
       "      <th>loudness</th>\n",
       "      <th>mode</th>\n",
       "      <th>name</th>\n",
       "      <th>popularity</th>\n",
       "      <th>release_date</th>\n",
       "      <th>speechiness</th>\n",
       "      <th>tempo</th>\n",
       "      <th>valence</th>\n",
       "      <th>year</th>\n",
       "      <th>year_bin</th>\n",
       "    </tr>\n",
       "  </thead>\n",
       "  <tbody>\n",
       "    <tr>\n",
       "      <th>0</th>\n",
       "      <td>0.995</td>\n",
       "      <td>['Carl Woitschach']</td>\n",
       "      <td>0.708</td>\n",
       "      <td>158648</td>\n",
       "      <td>0.195</td>\n",
       "      <td>0</td>\n",
       "      <td>6KbQ3uYMLKb5jDxLF7wYDD</td>\n",
       "      <td>0.563</td>\n",
       "      <td>10</td>\n",
       "      <td>0.151</td>\n",
       "      <td>-12.428</td>\n",
       "      <td>1</td>\n",
       "      <td>Singende Bataillone 1. Teil</td>\n",
       "      <td>0</td>\n",
       "      <td>1928</td>\n",
       "      <td>0.0506</td>\n",
       "      <td>118.469</td>\n",
       "      <td>0.779</td>\n",
       "      <td>1928</td>\n",
       "      <td>(1920.901, 1940.8]</td>\n",
       "    </tr>\n",
       "  </tbody>\n",
       "</table>\n",
       "</div>"
      ],
      "text/plain": [
       "   acousticness              artists  danceability  duration_ms  energy  \\\n",
       "0         0.995  ['Carl Woitschach']         0.708       158648   0.195   \n",
       "\n",
       "   explicit                      id  instrumentalness  key  liveness  \\\n",
       "0         0  6KbQ3uYMLKb5jDxLF7wYDD             0.563   10     0.151   \n",
       "\n",
       "   loudness  mode                         name  popularity release_date  \\\n",
       "0   -12.428     1  Singende Bataillone 1. Teil           0         1928   \n",
       "\n",
       "   speechiness    tempo  valence  year            year_bin  \n",
       "0       0.0506  118.469    0.779  1928  (1920.901, 1940.8]  "
      ]
     },
     "execution_count": 22,
     "metadata": {},
     "output_type": "execute_result"
    }
   ],
   "source": [
    "# We noticed that the distribution was heavily skewed left near 0, \n",
    "# so we wanted to analyze that further by looking at the popularity of the songs by year\n",
    "songs_df['year_bin'] = pd.cut(songs_df.year, 5)\n",
    "songs_df.head(1)"
   ]
  },
  {
   "cell_type": "code",
   "execution_count": 23,
   "metadata": {},
   "outputs": [
    {
     "data": {
      "text/plain": [
       "Text(0.5, 1, 'Popularity By Years')"
      ]
     },
     "execution_count": 23,
     "metadata": {},
     "output_type": "execute_result"
    },
    {
     "data": {
      "image/png": "[encoded data removed]",
      "text/plain": [
       "<Figure size 720x360 with 1 Axes>"
      ]
     },
     "metadata": {
      "needs_background": "light"
     },
     "output_type": "display_data"
    }
   ],
   "source": [
    "sns.catplot(x='year_bin', y='popularity', data=songs_df, kind='bar', aspect=2)\n",
    "plt.title('Popularity By Years')"
   ]
  },
  {
   "cell_type": "markdown",
   "metadata": {},
   "source": [
    "We decided songs before 1950 to be a good threshold to cut off and made a note about how the year seems to influence the popularity of a song."
   ]
  },
  {
   "cell_type": "code",
   "execution_count": 24,
   "metadata": {},
   "outputs": [],
   "source": [
    "songs_df.drop('year_bin', axis=1, inplace=True)"
   ]
  },
  {
   "cell_type": "code",
   "execution_count": 25,
   "metadata": {},
   "outputs": [
    {
     "data": {
      "text/plain": [
       "(139606, 19)"
      ]
     },
     "execution_count": 25,
     "metadata": {},
     "output_type": "execute_result"
    }
   ],
   "source": [
    "songs_df = songs_df[songs_df.year > 1950]\n",
    "songs_df.shape"
   ]
  },
  {
   "cell_type": "code",
   "execution_count": 26,
   "metadata": {},
   "outputs": [
    {
     "data": {
      "text/plain": [
       "Text(0.5, 1.0, 'Popularity Distribution after 1950')"
      ]
     },
     "execution_count": 26,
     "metadata": {},
     "output_type": "execute_result"
    },
    {
     "data": {
      "image/png": "[encoded data removed]",
      "text/plain": [
       "<Figure size 432x288 with 1 Axes>"
      ]
     },
     "metadata": {
      "needs_background": "light"
     },
     "output_type": "display_data"
    }
   ],
   "source": [
    "sns.distplot(songs_df.popularity, bins=50)\n",
    "plt.title('Popularity Distribution after 1950')"
   ]
  },
  {
   "cell_type": "code",
   "execution_count": 27,
   "metadata": {},
   "outputs": [
    {
     "data": {
      "text/plain": [
       "51.0"
      ]
     },
     "execution_count": 27,
     "metadata": {},
     "output_type": "execute_result"
    }
   ],
   "source": [
    "# We define the threshold for whether a song is popular by the top 25% of popularity\n",
    "songs_df.popularity.quantile(0.75)"
   ]
  },
  {
   "cell_type": "markdown",
   "metadata": {},
   "source": [
    "Binarize popularity"
   ]
  },
  {
   "cell_type": "code",
   "execution_count": 28,
   "metadata": {},
   "outputs": [],
   "source": [
    "threshold = songs_df.popularity.quantile(0.75)"
   ]
  },
  {
   "cell_type": "code",
   "execution_count": 29,
   "metadata": {},
   "outputs": [],
   "source": [
    "songs_df.loc[songs_df.popularity < threshold, 'popular'] = 0\n",
    "songs_df.loc[songs_df.popularity >= threshold, 'popular'] = 1"
   ]
  },
  {
   "cell_type": "code",
   "execution_count": 30,
   "metadata": {},
   "outputs": [
    {
     "data": {
      "text/html": [
       "<div>\n",
       "<style scoped>\n",
       "    .dataframe tbody tr th:only-of-type {\n",
       "        vertical-align: middle;\n",
       "    }\n",
       "\n",
       "    .dataframe tbody tr th {\n",
       "        vertical-align: top;\n",
       "    }\n",
       "\n",
       "    .dataframe thead th {\n",
       "        text-align: right;\n",
       "    }\n",
       "</style>\n",
       "<table border=\"1\" class=\"dataframe\">\n",
       "  <thead>\n",
       "    <tr style=\"text-align: right;\">\n",
       "      <th></th>\n",
       "      <th>acousticness</th>\n",
       "      <th>artists</th>\n",
       "      <th>danceability</th>\n",
       "      <th>duration_ms</th>\n",
       "      <th>energy</th>\n",
       "      <th>explicit</th>\n",
       "      <th>id</th>\n",
       "      <th>instrumentalness</th>\n",
       "      <th>key</th>\n",
       "      <th>liveness</th>\n",
       "      <th>loudness</th>\n",
       "      <th>mode</th>\n",
       "      <th>name</th>\n",
       "      <th>popularity</th>\n",
       "      <th>release_date</th>\n",
       "      <th>speechiness</th>\n",
       "      <th>tempo</th>\n",
       "      <th>valence</th>\n",
       "      <th>year</th>\n",
       "      <th>popular</th>\n",
       "    </tr>\n",
       "  </thead>\n",
       "  <tbody>\n",
       "    <tr>\n",
       "      <th>3122</th>\n",
       "      <td>0.8910</td>\n",
       "      <td>['Lucio Dalla']</td>\n",
       "      <td>0.596</td>\n",
       "      <td>222160</td>\n",
       "      <td>0.305</td>\n",
       "      <td>0</td>\n",
       "      <td>3yGyWqmw9eCQPdJJ6iJLWs</td>\n",
       "      <td>0.000002</td>\n",
       "      <td>0</td>\n",
       "      <td>0.1920</td>\n",
       "      <td>-13.270</td>\n",
       "      <td>1</td>\n",
       "      <td>4/3/1943</td>\n",
       "      <td>54</td>\n",
       "      <td>1970</td>\n",
       "      <td>0.0460</td>\n",
       "      <td>134.381</td>\n",
       "      <td>0.782</td>\n",
       "      <td>1970</td>\n",
       "      <td>1.0</td>\n",
       "    </tr>\n",
       "    <tr>\n",
       "      <th>3366</th>\n",
       "      <td>0.7280</td>\n",
       "      <td>['Mia Martini']</td>\n",
       "      <td>0.248</td>\n",
       "      <td>283893</td>\n",
       "      <td>0.483</td>\n",
       "      <td>0</td>\n",
       "      <td>5UKMdUAChYAllKDye6qDGb</td>\n",
       "      <td>0.000004</td>\n",
       "      <td>9</td>\n",
       "      <td>0.6310</td>\n",
       "      <td>-11.279</td>\n",
       "      <td>1</td>\n",
       "      <td>Minuetto</td>\n",
       "      <td>58</td>\n",
       "      <td>1973-06-23</td>\n",
       "      <td>0.0678</td>\n",
       "      <td>191.107</td>\n",
       "      <td>0.439</td>\n",
       "      <td>1973</td>\n",
       "      <td>1.0</td>\n",
       "    </tr>\n",
       "    <tr>\n",
       "      <th>3386</th>\n",
       "      <td>0.6570</td>\n",
       "      <td>['Pescado Rabioso']</td>\n",
       "      <td>0.523</td>\n",
       "      <td>130080</td>\n",
       "      <td>0.169</td>\n",
       "      <td>0</td>\n",
       "      <td>689lBKIELtWGHfsPWpR6rv</td>\n",
       "      <td>0.000011</td>\n",
       "      <td>0</td>\n",
       "      <td>0.1150</td>\n",
       "      <td>-14.107</td>\n",
       "      <td>1</td>\n",
       "      <td>Todas las Hojas Son del Viento</td>\n",
       "      <td>54</td>\n",
       "      <td>1973-05-07</td>\n",
       "      <td>0.0403</td>\n",
       "      <td>76.049</td>\n",
       "      <td>0.392</td>\n",
       "      <td>1973</td>\n",
       "      <td>1.0</td>\n",
       "    </tr>\n",
       "    <tr>\n",
       "      <th>3441</th>\n",
       "      <td>0.9720</td>\n",
       "      <td>['Luiz Melodia']</td>\n",
       "      <td>0.526</td>\n",
       "      <td>169973</td>\n",
       "      <td>0.252</td>\n",
       "      <td>0</td>\n",
       "      <td>5JG0NigCZCt81My5Yizv1E</td>\n",
       "      <td>0.001700</td>\n",
       "      <td>5</td>\n",
       "      <td>0.1550</td>\n",
       "      <td>-9.801</td>\n",
       "      <td>1</td>\n",
       "      <td>Pérola Negra</td>\n",
       "      <td>52</td>\n",
       "      <td>1973-01-01</td>\n",
       "      <td>0.0556</td>\n",
       "      <td>105.469</td>\n",
       "      <td>0.312</td>\n",
       "      <td>1973</td>\n",
       "      <td>1.0</td>\n",
       "    </tr>\n",
       "    <tr>\n",
       "      <th>3832</th>\n",
       "      <td>0.0757</td>\n",
       "      <td>['Smokie']</td>\n",
       "      <td>0.594</td>\n",
       "      <td>245107</td>\n",
       "      <td>0.750</td>\n",
       "      <td>0</td>\n",
       "      <td>1r9QBciQVM1BnW72cQUA4R</td>\n",
       "      <td>0.000244</td>\n",
       "      <td>2</td>\n",
       "      <td>0.0593</td>\n",
       "      <td>-7.216</td>\n",
       "      <td>1</td>\n",
       "      <td>Lay Back in the Arms of Someone</td>\n",
       "      <td>52</td>\n",
       "      <td>1977</td>\n",
       "      <td>0.0299</td>\n",
       "      <td>122.949</td>\n",
       "      <td>0.693</td>\n",
       "      <td>1977</td>\n",
       "      <td>1.0</td>\n",
       "    </tr>\n",
       "    <tr>\n",
       "      <th>...</th>\n",
       "      <td>...</td>\n",
       "      <td>...</td>\n",
       "      <td>...</td>\n",
       "      <td>...</td>\n",
       "      <td>...</td>\n",
       "      <td>...</td>\n",
       "      <td>...</td>\n",
       "      <td>...</td>\n",
       "      <td>...</td>\n",
       "      <td>...</td>\n",
       "      <td>...</td>\n",
       "      <td>...</td>\n",
       "      <td>...</td>\n",
       "      <td>...</td>\n",
       "      <td>...</td>\n",
       "      <td>...</td>\n",
       "      <td>...</td>\n",
       "      <td>...</td>\n",
       "      <td>...</td>\n",
       "      <td>...</td>\n",
       "    </tr>\n",
       "    <tr>\n",
       "      <th>169904</th>\n",
       "      <td>0.1730</td>\n",
       "      <td>['DripReport', 'Tyga']</td>\n",
       "      <td>0.875</td>\n",
       "      <td>163800</td>\n",
       "      <td>0.443</td>\n",
       "      <td>1</td>\n",
       "      <td>4KppkflX7I3vJQk7urOJaS</td>\n",
       "      <td>0.000032</td>\n",
       "      <td>1</td>\n",
       "      <td>0.0891</td>\n",
       "      <td>-7.461</td>\n",
       "      <td>1</td>\n",
       "      <td>Skechers (feat. Tyga) - Remix</td>\n",
       "      <td>75</td>\n",
       "      <td>2020-05-15</td>\n",
       "      <td>0.1430</td>\n",
       "      <td>100.012</td>\n",
       "      <td>0.306</td>\n",
       "      <td>2020</td>\n",
       "      <td>1.0</td>\n",
       "    </tr>\n",
       "    <tr>\n",
       "      <th>169905</th>\n",
       "      <td>0.0167</td>\n",
       "      <td>['Leon Bridges', 'Terrace Martin']</td>\n",
       "      <td>0.719</td>\n",
       "      <td>167468</td>\n",
       "      <td>0.385</td>\n",
       "      <td>0</td>\n",
       "      <td>1ehhGlTvjtHo2e4xJFB0SZ</td>\n",
       "      <td>0.031300</td>\n",
       "      <td>8</td>\n",
       "      <td>0.1110</td>\n",
       "      <td>-10.907</td>\n",
       "      <td>1</td>\n",
       "      <td>Sweeter (feat. Terrace Martin)</td>\n",
       "      <td>64</td>\n",
       "      <td>2020-06-08</td>\n",
       "      <td>0.0403</td>\n",
       "      <td>128.000</td>\n",
       "      <td>0.270</td>\n",
       "      <td>2020</td>\n",
       "      <td>1.0</td>\n",
       "    </tr>\n",
       "    <tr>\n",
       "      <th>169906</th>\n",
       "      <td>0.5380</td>\n",
       "      <td>['Kygo', 'Oh Wonder']</td>\n",
       "      <td>0.514</td>\n",
       "      <td>180700</td>\n",
       "      <td>0.539</td>\n",
       "      <td>0</td>\n",
       "      <td>52eycxprLhK3lPcRLbQiVk</td>\n",
       "      <td>0.002330</td>\n",
       "      <td>7</td>\n",
       "      <td>0.1080</td>\n",
       "      <td>-9.332</td>\n",
       "      <td>1</td>\n",
       "      <td>How Would I Know</td>\n",
       "      <td>70</td>\n",
       "      <td>2020-05-29</td>\n",
       "      <td>0.1050</td>\n",
       "      <td>123.700</td>\n",
       "      <td>0.153</td>\n",
       "      <td>2020</td>\n",
       "      <td>1.0</td>\n",
       "    </tr>\n",
       "    <tr>\n",
       "      <th>169907</th>\n",
       "      <td>0.0714</td>\n",
       "      <td>['Cash Cash', 'Andy Grammer']</td>\n",
       "      <td>0.646</td>\n",
       "      <td>167308</td>\n",
       "      <td>0.761</td>\n",
       "      <td>0</td>\n",
       "      <td>3wYOGJYD31sLRmBgCvWxa4</td>\n",
       "      <td>0.000000</td>\n",
       "      <td>1</td>\n",
       "      <td>0.2220</td>\n",
       "      <td>-2.557</td>\n",
       "      <td>1</td>\n",
       "      <td>I Found You</td>\n",
       "      <td>70</td>\n",
       "      <td>2020-02-28</td>\n",
       "      <td>0.0385</td>\n",
       "      <td>129.916</td>\n",
       "      <td>0.472</td>\n",
       "      <td>2020</td>\n",
       "      <td>1.0</td>\n",
       "    </tr>\n",
       "    <tr>\n",
       "      <th>169908</th>\n",
       "      <td>0.1090</td>\n",
       "      <td>['Ingrid Andress']</td>\n",
       "      <td>0.512</td>\n",
       "      <td>214787</td>\n",
       "      <td>0.428</td>\n",
       "      <td>0</td>\n",
       "      <td>60RFlt48hm0l4Fu0JoccOl</td>\n",
       "      <td>0.000000</td>\n",
       "      <td>0</td>\n",
       "      <td>0.1050</td>\n",
       "      <td>-7.387</td>\n",
       "      <td>1</td>\n",
       "      <td>More Hearts Than Mine</td>\n",
       "      <td>65</td>\n",
       "      <td>2020-03-27</td>\n",
       "      <td>0.0271</td>\n",
       "      <td>80.588</td>\n",
       "      <td>0.366</td>\n",
       "      <td>2020</td>\n",
       "      <td>1.0</td>\n",
       "    </tr>\n",
       "  </tbody>\n",
       "</table>\n",
       "<p>35839 rows × 20 columns</p>\n",
       "</div>"
      ],
      "text/plain": [
       "        acousticness                             artists  danceability  \\\n",
       "3122          0.8910                     ['Lucio Dalla']         0.596   \n",
       "3366          0.7280                     ['Mia Martini']         0.248   \n",
       "3386          0.6570                 ['Pescado Rabioso']         0.523   \n",
       "3441          0.9720                    ['Luiz Melodia']         0.526   \n",
       "3832          0.0757                          ['Smokie']         0.594   \n",
       "...              ...                                 ...           ...   \n",
       "169904        0.1730              ['DripReport', 'Tyga']         0.875   \n",
       "169905        0.0167  ['Leon Bridges', 'Terrace Martin']         0.719   \n",
       "169906        0.5380               ['Kygo', 'Oh Wonder']         0.514   \n",
       "169907        0.0714       ['Cash Cash', 'Andy Grammer']         0.646   \n",
       "169908        0.1090                  ['Ingrid Andress']         0.512   \n",
       "\n",
       "        duration_ms  energy  explicit                      id  \\\n",
       "3122         222160   0.305         0  3yGyWqmw9eCQPdJJ6iJLWs   \n",
       "3366         283893   0.483         0  5UKMdUAChYAllKDye6qDGb   \n",
       "3386         130080   0.169         0  689lBKIELtWGHfsPWpR6rv   \n",
       "3441         169973   0.252         0  5JG0NigCZCt81My5Yizv1E   \n",
       "3832         245107   0.750         0  1r9QBciQVM1BnW72cQUA4R   \n",
       "...             ...     ...       ...                     ...   \n",
       "169904       163800   0.443         1  4KppkflX7I3vJQk7urOJaS   \n",
       "169905       167468   0.385         0  1ehhGlTvjtHo2e4xJFB0SZ   \n",
       "169906       180700   0.539         0  52eycxprLhK3lPcRLbQiVk   \n",
       "169907       167308   0.761         0  3wYOGJYD31sLRmBgCvWxa4   \n",
       "169908       214787   0.428         0  60RFlt48hm0l4Fu0JoccOl   \n",
       "\n",
       "        instrumentalness  key  liveness  loudness  mode  \\\n",
       "3122            0.000002    0    0.1920   -13.270     1   \n",
       "3366            0.000004    9    0.6310   -11.279     1   \n",
       "3386            0.000011    0    0.1150   -14.107     1   \n",
       "3441            0.001700    5    0.1550    -9.801     1   \n",
       "3832            0.000244    2    0.0593    -7.216     1   \n",
       "...                  ...  ...       ...       ...   ...   \n",
       "169904          0.000032    1    0.0891    -7.461     1   \n",
       "169905          0.031300    8    0.1110   -10.907     1   \n",
       "169906          0.002330    7    0.1080    -9.332     1   \n",
       "169907          0.000000    1    0.2220    -2.557     1   \n",
       "169908          0.000000    0    0.1050    -7.387     1   \n",
       "\n",
       "                                   name  popularity release_date  speechiness  \\\n",
       "3122                           4/3/1943          54         1970       0.0460   \n",
       "3366                           Minuetto          58   1973-06-23       0.0678   \n",
       "3386     Todas las Hojas Son del Viento          54   1973-05-07       0.0403   \n",
       "3441                       Pérola Negra          52   1973-01-01       0.0556   \n",
       "3832    Lay Back in the Arms of Someone          52         1977       0.0299   \n",
       "...                                 ...         ...          ...          ...   \n",
       "169904    Skechers (feat. Tyga) - Remix          75   2020-05-15       0.1430   \n",
       "169905   Sweeter (feat. Terrace Martin)          64   2020-06-08       0.0403   \n",
       "169906                 How Would I Know          70   2020-05-29       0.1050   \n",
       "169907                      I Found You          70   2020-02-28       0.0385   \n",
       "169908            More Hearts Than Mine          65   2020-03-27       0.0271   \n",
       "\n",
       "          tempo  valence  year  popular  \n",
       "3122    134.381    0.782  1970      1.0  \n",
       "3366    191.107    0.439  1973      1.0  \n",
       "3386     76.049    0.392  1973      1.0  \n",
       "3441    105.469    0.312  1973      1.0  \n",
       "3832    122.949    0.693  1977      1.0  \n",
       "...         ...      ...   ...      ...  \n",
       "169904  100.012    0.306  2020      1.0  \n",
       "169905  128.000    0.270  2020      1.0  \n",
       "169906  123.700    0.153  2020      1.0  \n",
       "169907  129.916    0.472  2020      1.0  \n",
       "169908   80.588    0.366  2020      1.0  \n",
       "\n",
       "[35839 rows x 20 columns]"
      ]
     },
     "execution_count": 30,
     "metadata": {},
     "output_type": "execute_result"
    }
   ],
   "source": [
    "songs_df[songs_df.popular == 1]"
   ]
  },
  {
   "cell_type": "code",
   "execution_count": 31,
   "metadata": {},
   "outputs": [
    {
     "data": {
      "text/plain": [
       "35839.0"
      ]
     },
     "execution_count": 31,
     "metadata": {},
     "output_type": "execute_result"
    }
   ],
   "source": [
    "songs_df.popular.sum()"
   ]
  },
  {
   "cell_type": "code",
   "execution_count": 32,
   "metadata": {
    "scrolled": true
   },
   "outputs": [
    {
     "data": {
      "text/plain": [
       "<matplotlib.axes._subplots.AxesSubplot at 0x1db74397860>"
      ]
     },
     "execution_count": 32,
     "metadata": {},
     "output_type": "execute_result"
    },
    {
     "data": {
      "image/png": "[encoded data removed]",
      "text/plain": [
       "<Figure size 1152x360 with 2 Axes>"
      ]
     },
     "metadata": {
      "needs_background": "light"
     },
     "output_type": "display_data"
    }
   ],
   "source": [
    "plt.figure(figsize=(16,5))\n",
    "sns.heatmap(songs_df.corr(), annot=True, cmap = 'plasma')"
   ]
  },
  {
   "cell_type": "code",
   "execution_count": 33,
   "metadata": {},
   "outputs": [
    {
     "data": {
      "text/plain": [
       "Text(0.5, 1, 'Popularity by Country')"
      ]
     },
     "execution_count": 33,
     "metadata": {},
     "output_type": "execute_result"
    },
    {
     "data": {
      "image/png": "[encoded data removed]",
      "text/plain": [
       "<Figure size 1440x720 with 1 Axes>"
      ]
     },
     "metadata": {
      "needs_background": "light"
     },
     "output_type": "display_data"
    }
   ],
   "source": [
    "sns.catplot(x='popularity', y='country', data=songs_w_country_df, kind='bar', height=10, aspect=2)\n",
    "plt.xlabel('popularity', size=15)\n",
    "plt.ylabel('country', size=15)\n",
    "plt.title('Popularity by Country', fontsize=30)"
   ]
  },
  {
   "cell_type": "markdown",
   "metadata": {},
   "source": [
    "### Feature Selection"
   ]
  },
  {
   "cell_type": "markdown",
   "metadata": {},
   "source": [
    "By ranking each feature, we can get a better idea of which features are more important/relevant to the popularity of the track. These features will serve as the inputs to the predictive classification model."
   ]
  },
  {
   "cell_type": "code",
   "execution_count": 34,
   "metadata": {},
   "outputs": [],
   "source": [
    "# Initialize input and output variables\n",
    "# The input variables will include everything EXCEPT artists, id, name, release_date, popularity and popular columns\n",
    "X = songs_df.drop(['artists', 'id', 'name', 'release_date', 'popularity', 'popular'], axis=1)\n",
    "Y = songs_df.popular"
   ]
  },
  {
   "cell_type": "code",
   "execution_count": 35,
   "metadata": {},
   "outputs": [],
   "source": [
    "model = DecisionTreeClassifier()"
   ]
  },
  {
   "cell_type": "code",
   "execution_count": 36,
   "metadata": {},
   "outputs": [
    {
     "data": {
      "text/plain": [
       "DecisionTreeClassifier(ccp_alpha=0.0, class_weight=None, criterion='gini',\n",
       "                       max_depth=None, max_features=None, max_leaf_nodes=None,\n",
       "                       min_impurity_decrease=0.0, min_impurity_split=None,\n",
       "                       min_samples_leaf=1, min_samples_split=2,\n",
       "                       min_weight_fraction_leaf=0.0, presort='deprecated',\n",
       "                       random_state=None, splitter='best')"
      ]
     },
     "execution_count": 36,
     "metadata": {},
     "output_type": "execute_result"
    }
   ],
   "source": [
    "# Fit the model\n",
    "model.fit(X, Y)"
   ]
  },
  {
   "cell_type": "code",
   "execution_count": 37,
   "metadata": {},
   "outputs": [
    {
     "data": {
      "image/png": "[encoded data removed]",
      "text/plain": [
       "<Figure size 432x288 with 1 Axes>"
      ]
     },
     "metadata": {
      "needs_background": "light"
     },
     "output_type": "display_data"
    }
   ],
   "source": [
    "# Plot graph of feature importances for visualization\n",
    "feature_importances = pd.Series(model.feature_importances_, index=X.columns)\n",
    "feature_importances.plot(kind='bar')\n",
    "plt.title('Feature Importance Scores with Year')\n",
    "plt.show()"
   ]
  },
  {
   "cell_type": "markdown",
   "metadata": {},
   "source": [
    "Supporting our hypothesis from before, we again noticed that the year feature heavily influences the popularity which we realized was because Spotify essentially determines popularity by the number of plays the track has had and how recent those plays were. As a result, we decided to drop all features from the song/track that were not related music theory (i.e song or artist information)"
   ]
  },
  {
   "cell_type": "code",
   "execution_count": 38,
   "metadata": {},
   "outputs": [],
   "source": [
    "# Input variables exlcudes year too\n",
    "X = songs_df.drop(['year', 'artists', 'id', 'name', 'release_date', 'popularity', 'popular'], axis=1)\n",
    "Y = songs_df.popular"
   ]
  },
  {
   "cell_type": "code",
   "execution_count": 39,
   "metadata": {},
   "outputs": [],
   "source": [
    "model = DecisionTreeClassifier()"
   ]
  },
  {
   "cell_type": "code",
   "execution_count": 40,
   "metadata": {},
   "outputs": [
    {
     "data": {
      "text/plain": [
       "DecisionTreeClassifier(ccp_alpha=0.0, class_weight=None, criterion='gini',\n",
       "                       max_depth=None, max_features=None, max_leaf_nodes=None,\n",
       "                       min_impurity_decrease=0.0, min_impurity_split=None,\n",
       "                       min_samples_leaf=1, min_samples_split=2,\n",
       "                       min_weight_fraction_leaf=0.0, presort='deprecated',\n",
       "                       random_state=None, splitter='best')"
      ]
     },
     "execution_count": 40,
     "metadata": {},
     "output_type": "execute_result"
    }
   ],
   "source": [
    "# Fit the model\n",
    "model.fit(X, Y)"
   ]
  },
  {
   "cell_type": "code",
   "execution_count": 41,
   "metadata": {},
   "outputs": [
    {
     "data": {
      "image/png": "[encoded data removed]",
      "text/plain": [
       "<Figure size 432x288 with 1 Axes>"
      ]
     },
     "metadata": {
      "needs_background": "light"
     },
     "output_type": "display_data"
    }
   ],
   "source": [
    "# Plot graph of feature importances for visualization\n",
    "feature_importances = pd.Series(model.feature_importances_, index=X.columns)\n",
    "feature_importances.plot(kind='bar')\n",
    "plt.title('Feature Importance Scores without Year')\n",
    "plt.show()"
   ]
  },
  {
   "cell_type": "markdown",
   "metadata": {},
   "source": [
    "We can now see the relevant features for our inquiry and get a better idea about which features will play an important role in our model's prediction"
   ]
  },
  {
   "cell_type": "markdown",
   "metadata": {},
   "source": [
    "## Model Selection and Predicting"
   ]
  },
  {
   "cell_type": "code",
   "execution_count": 42,
   "metadata": {},
   "outputs": [],
   "source": [
    "# Input variables exlcudes year too\n",
    "X = songs_df.drop(['year', 'artists', 'id', 'name', 'release_date', 'popularity', 'popular'], axis=1)\n",
    "# Output variable\n",
    "Y = songs_df.popular"
   ]
  },
  {
   "cell_type": "code",
   "execution_count": 43,
   "metadata": {},
   "outputs": [],
   "source": [
    "# List of Classifiers for predicting\n",
    "clfs = [DecisionTreeClassifier(), RandomForestClassifier(n_jobs=-1),\n",
    "        sk.linear_model.LogisticRegression(n_jobs=-1), QuadraticDiscriminantAnalysis(), KNeighborsClassifier()]"
   ]
  },
  {
   "cell_type": "code",
   "execution_count": 44,
   "metadata": {},
   "outputs": [
    {
     "name": "stdout",
     "output_type": "stream",
     "text": [
      "['acousticness', 'danceability', 'duration_ms', 'energy', 'explicit', 'instrumentalness', 'key', 'liveness', 'loudness', 'mode', 'speechiness', 'tempo', 'valence']\n"
     ]
    }
   ],
   "source": [
    "# List of features used \n",
    "print(X.columns.tolist())\n",
    "features = X.columns.tolist()"
   ]
  },
  {
   "cell_type": "markdown",
   "metadata": {},
   "source": [
    "### Hold-out Sample Analysis"
   ]
  },
  {
   "cell_type": "markdown",
   "metadata": {},
   "source": [
    "Split the data set 80/20 (80% training and the other 20% for testing)"
   ]
  },
  {
   "cell_type": "code",
   "execution_count": 45,
   "metadata": {},
   "outputs": [],
   "source": [
    "train_data = songs_df.sample(frac=0.8, random_state=420)"
   ]
  },
  {
   "cell_type": "code",
   "execution_count": 46,
   "metadata": {},
   "outputs": [],
   "source": [
    "X_train = train_data[features]\n",
    "y_train = train_data.popular\n",
    "X_test = songs_df.drop(train_data.index)[features]"
   ]
  },
  {
   "cell_type": "markdown",
   "metadata": {},
   "source": [
    "Add a validation dataset "
   ]
  },
  {
   "cell_type": "code",
   "execution_count": 47,
   "metadata": {},
   "outputs": [],
   "source": [
    "X_train, X_test, Y_train, Y_test = train_test_split(X_train, y_train, test_size=0.2, random_state=420)"
   ]
  },
  {
   "cell_type": "code",
   "execution_count": 48,
   "metadata": {},
   "outputs": [],
   "source": [
    "accuracy_ls = []\n",
    "auc_ls = []\n",
    "\n",
    "for clf in clfs:\n",
    "    clf.fit(X_train, Y_train)\n",
    "    y_predictions = clf.predict(X_test)\n",
    "    \n",
    "    accuracy = accuracy_score(Y_test, y_predictions)\n",
    "    auc = roc_auc_score(Y_test, y_predictions)\n",
    "    \n",
    "    accuracy_ls.append(accuracy)\n",
    "    auc_ls.append(auc)    "
   ]
  },
  {
   "cell_type": "code",
   "execution_count": 49,
   "metadata": {},
   "outputs": [],
   "source": [
    "model_performance_hout_df = pd.DataFrame({'Model': ['DecisionTreeClassifier', 'RandomForestClassifier', \n",
    "                                                    'LogisticRegression', 'QuadraticDiscriminantAnalysis', 'KNeighborsClassifier'], \n",
    "                                          'Accuracy': accuracy_ls, 'AUC': auc_ls})"
   ]
  },
  {
   "cell_type": "code",
   "execution_count": 50,
   "metadata": {},
   "outputs": [
    {
     "data": {
      "text/html": [
       "<div>\n",
       "<style scoped>\n",
       "    .dataframe tbody tr th:only-of-type {\n",
       "        vertical-align: middle;\n",
       "    }\n",
       "\n",
       "    .dataframe tbody tr th {\n",
       "        vertical-align: top;\n",
       "    }\n",
       "\n",
       "    .dataframe thead th {\n",
       "        text-align: right;\n",
       "    }\n",
       "</style>\n",
       "<table border=\"1\" class=\"dataframe\">\n",
       "  <thead>\n",
       "    <tr style=\"text-align: right;\">\n",
       "      <th></th>\n",
       "      <th>Model</th>\n",
       "      <th>Accuracy</th>\n",
       "      <th>AUC</th>\n",
       "    </tr>\n",
       "  </thead>\n",
       "  <tbody>\n",
       "    <tr>\n",
       "      <th>3</th>\n",
       "      <td>QuadraticDiscriminantAnalysis</td>\n",
       "      <td>0.770784</td>\n",
       "      <td>0.682773</td>\n",
       "    </tr>\n",
       "    <tr>\n",
       "      <th>1</th>\n",
       "      <td>RandomForestClassifier</td>\n",
       "      <td>0.795317</td>\n",
       "      <td>0.668552</td>\n",
       "    </tr>\n",
       "    <tr>\n",
       "      <th>0</th>\n",
       "      <td>DecisionTreeClassifier</td>\n",
       "      <td>0.710033</td>\n",
       "      <td>0.628337</td>\n",
       "    </tr>\n",
       "    <tr>\n",
       "      <th>4</th>\n",
       "      <td>KNeighborsClassifier</td>\n",
       "      <td>0.697990</td>\n",
       "      <td>0.528257</td>\n",
       "    </tr>\n",
       "    <tr>\n",
       "      <th>2</th>\n",
       "      <td>LogisticRegression</td>\n",
       "      <td>0.743162</td>\n",
       "      <td>0.506528</td>\n",
       "    </tr>\n",
       "  </tbody>\n",
       "</table>\n",
       "</div>"
      ],
      "text/plain": [
       "                           Model  Accuracy       AUC\n",
       "3  QuadraticDiscriminantAnalysis  0.770784  0.682773\n",
       "1         RandomForestClassifier  0.795317  0.668552\n",
       "0         DecisionTreeClassifier  0.710033  0.628337\n",
       "4           KNeighborsClassifier  0.697990  0.528257\n",
       "2             LogisticRegression  0.743162  0.506528"
      ]
     },
     "execution_count": 50,
     "metadata": {},
     "output_type": "execute_result"
    }
   ],
   "source": [
    "model_performance_hout_df.sort_values(by=['AUC', 'Accuracy'], ascending=False)"
   ]
  },
  {
   "cell_type": "markdown",
   "metadata": {},
   "source": [
    "### Cross-Validation Analysis"
   ]
  },
  {
   "cell_type": "code",
   "execution_count": 51,
   "metadata": {},
   "outputs": [],
   "source": [
    "nfolds = 10\n",
    "accuracy_ls = []\n",
    "auc_ls = []\n",
    "\n",
    "for cl in clfs:\n",
    "    kf = KFold(n_splits=nfolds, random_state=2, shuffle=True)\n",
    "    \n",
    "    accuracy = sk.model_selection.cross_val_score(cl, X, Y, cv=kf, scoring='accuracy').mean()\n",
    "    auc = sk.model_selection.cross_val_score(cl, X, Y, cv=kf, scoring='roc_auc').mean()\n",
    "    \n",
    "    accuracy_ls.append(accuracy)\n",
    "    auc_ls.append(auc)"
   ]
  },
  {
   "cell_type": "code",
   "execution_count": 52,
   "metadata": {},
   "outputs": [],
   "source": [
    "model_performance_cval_df = pd.DataFrame({'Model': ['DecisionTreeClassifier', 'RandomForestClassifier', \n",
    "                                                    'LogisticRegression', 'QuadraticDiscriminantAnalysis', 'KNeighborsClassifier'], \n",
    "                                          'Accuracy': accuracy_ls, 'AUC': auc_ls})"
   ]
  },
  {
   "cell_type": "code",
   "execution_count": 53,
   "metadata": {},
   "outputs": [
    {
     "data": {
      "text/html": [
       "<div>\n",
       "<style scoped>\n",
       "    .dataframe tbody tr th:only-of-type {\n",
       "        vertical-align: middle;\n",
       "    }\n",
       "\n",
       "    .dataframe tbody tr th {\n",
       "        vertical-align: top;\n",
       "    }\n",
       "\n",
       "    .dataframe thead th {\n",
       "        text-align: right;\n",
       "    }\n",
       "</style>\n",
       "<table border=\"1\" class=\"dataframe\">\n",
       "  <thead>\n",
       "    <tr style=\"text-align: right;\">\n",
       "      <th></th>\n",
       "      <th>Model</th>\n",
       "      <th>Accuracy</th>\n",
       "      <th>AUC</th>\n",
       "    </tr>\n",
       "  </thead>\n",
       "  <tbody>\n",
       "    <tr>\n",
       "      <th>1</th>\n",
       "      <td>RandomForestClassifier</td>\n",
       "      <td>0.799350</td>\n",
       "      <td>0.804955</td>\n",
       "    </tr>\n",
       "    <tr>\n",
       "      <th>3</th>\n",
       "      <td>QuadraticDiscriminantAnalysis</td>\n",
       "      <td>0.775017</td>\n",
       "      <td>0.762623</td>\n",
       "    </tr>\n",
       "    <tr>\n",
       "      <th>0</th>\n",
       "      <td>DecisionTreeClassifier</td>\n",
       "      <td>0.716294</td>\n",
       "      <td>0.636697</td>\n",
       "    </tr>\n",
       "    <tr>\n",
       "      <th>4</th>\n",
       "      <td>KNeighborsClassifier</td>\n",
       "      <td>0.701317</td>\n",
       "      <td>0.582126</td>\n",
       "    </tr>\n",
       "    <tr>\n",
       "      <th>2</th>\n",
       "      <td>LogisticRegression</td>\n",
       "      <td>0.743328</td>\n",
       "      <td>0.533031</td>\n",
       "    </tr>\n",
       "  </tbody>\n",
       "</table>\n",
       "</div>"
      ],
      "text/plain": [
       "                           Model  Accuracy       AUC\n",
       "1         RandomForestClassifier  0.799350  0.804955\n",
       "3  QuadraticDiscriminantAnalysis  0.775017  0.762623\n",
       "0         DecisionTreeClassifier  0.716294  0.636697\n",
       "4           KNeighborsClassifier  0.701317  0.582126\n",
       "2             LogisticRegression  0.743328  0.533031"
      ]
     },
     "execution_count": 53,
     "metadata": {},
     "output_type": "execute_result"
    }
   ],
   "source": [
    "model_performance_cval_df.sort_values(by=['AUC', 'Accuracy'], ascending=False)"
   ]
  },
  {
   "cell_type": "markdown",
   "metadata": {},
   "source": [
    "We can see that the cross-validation method was more effective than hold-out sampling since the best AUC for cross-validation was higher than the best AUC for hold-out sampling."
   ]
  },
  {
   "cell_type": "markdown",
   "metadata": {},
   "source": [
    "## Results and Findings"
   ]
  },
  {
   "cell_type": "markdown",
   "metadata": {},
   "source": [
    "RandomForestClassifier provided the best predictions on the training model with an AUC score of ~0.8. We decided to visualize the audio features of popular songs."
   ]
  },
  {
   "cell_type": "code",
   "execution_count": 54,
   "metadata": {},
   "outputs": [],
   "source": [
    "# We create a new DataFrame that only contains songs that are popular\n",
    "popular_songs_df = songs_df[songs_df.popular == 1]"
   ]
  },
  {
   "cell_type": "code",
   "execution_count": 55,
   "metadata": {},
   "outputs": [
    {
     "data": {
      "text/plain": [
       "35839"
      ]
     },
     "execution_count": 55,
     "metadata": {},
     "output_type": "execute_result"
    }
   ],
   "source": [
    "len(popular_songs_df)"
   ]
  },
  {
   "cell_type": "code",
   "execution_count": 56,
   "metadata": {},
   "outputs": [],
   "source": [
    "# Input variables exlcudes year too\n",
    "X = songs_df.drop(['year', 'artists', 'id', 'name', 'release_date', 'popularity', 'popular'], axis=1)\n",
    "# Output variable\n",
    "Y = songs_df.popular"
   ]
  },
  {
   "cell_type": "code",
   "execution_count": 57,
   "metadata": {},
   "outputs": [],
   "source": [
    "rf = RandomForestClassifier()"
   ]
  },
  {
   "cell_type": "code",
   "execution_count": 58,
   "metadata": {},
   "outputs": [],
   "source": [
    "kf = KFold(n_splits=nfolds, random_state=2, shuffle=True)\n",
    "# Get estimators for each combination of train-test folds\n",
    "output = cross_validate(rf, X, Y, cv=kf, scoring='accuracy', return_estimator=True)"
   ]
  },
  {
   "cell_type": "code",
   "execution_count": 59,
   "metadata": {},
   "outputs": [
    {
     "name": "stdout",
     "output_type": "stream",
     "text": [
      "Features sorted by their score for fold 1\n"
     ]
    },
    {
     "data": {
      "image/png": "[encoded data removed]",
      "text/plain": [
       "<Figure size 432x288 with 1 Axes>"
      ]
     },
     "metadata": {
      "needs_background": "light"
     },
     "output_type": "display_data"
    },
    {
     "name": "stdout",
     "output_type": "stream",
     "text": [
      "Features sorted by their score for fold 2\n"
     ]
    },
    {
     "data": {
      "image/png": "[encoded data removed]",
      "text/plain": [
       "<Figure size 432x288 with 1 Axes>"
      ]
     },
     "metadata": {
      "needs_background": "light"
     },
     "output_type": "display_data"
    },
    {
     "name": "stdout",
     "output_type": "stream",
     "text": [
      "Features sorted by their score for fold 3\n"
     ]
    },
    {
     "data": {
      "image/png": "[encoded data removed]",
      "text/plain": [
       "<Figure size 432x288 with 1 Axes>"
      ]
     },
     "metadata": {
      "needs_background": "light"
     },
     "output_type": "display_data"
    },
    {
     "name": "stdout",
     "output_type": "stream",
     "text": [
      "Features sorted by their score for fold 4\n"
     ]
    },
    {
     "data": {
      "image/png": "[encoded data removed]",
      "text/plain": [
       "<Figure size 432x288 with 1 Axes>"
      ]
     },
     "metadata": {
      "needs_background": "light"
     },
     "output_type": "display_data"
    },
    {
     "name": "stdout",
     "output_type": "stream",
     "text": [
      "Features sorted by their score for fold 5\n"
     ]
    },
    {
     "data": {
      "image/png": "[encoded data removed]",
      "text/plain": [
       "<Figure size 432x288 with 1 Axes>"
      ]
     },
     "metadata": {
      "needs_background": "light"
     },
     "output_type": "display_data"
    },
    {
     "name": "stdout",
     "output_type": "stream",
     "text": [
      "Features sorted by their score for fold 6\n"
     ]
    },
    {
     "data": {
      "image/png": "[encoded data removed]",
      "text/plain": [
       "<Figure size 432x288 with 1 Axes>"
      ]
     },
     "metadata": {
      "needs_background": "light"
     },
     "output_type": "display_data"
    },
    {
     "name": "stdout",
     "output_type": "stream",
     "text": [
      "Features sorted by their score for fold 7\n"
     ]
    },
    {
     "data": {
      "image/png": "[encoded data removed]",
      "text/plain": [
       "<Figure size 432x288 with 1 Axes>"
      ]
     },
     "metadata": {
      "needs_background": "light"
     },
     "output_type": "display_data"
    },
    {
     "name": "stdout",
     "output_type": "stream",
     "text": [
      "Features sorted by their score for fold 8\n"
     ]
    },
    {
     "data": {
      "image/png": "[encoded data removed]",
      "text/plain": [
       "<Figure size 432x288 with 1 Axes>"
      ]
     },
     "metadata": {
      "needs_background": "light"
     },
     "output_type": "display_data"
    },
    {
     "name": "stdout",
     "output_type": "stream",
     "text": [
      "Features sorted by their score for fold 9\n"
     ]
    },
    {
     "data": {
      "image/png": "[encoded data removed]",
      "text/plain": [
       "<Figure size 432x288 with 1 Axes>"
      ]
     },
     "metadata": {
      "needs_background": "light"
     },
     "output_type": "display_data"
    },
    {
     "name": "stdout",
     "output_type": "stream",
     "text": [
      "Features sorted by their score for fold 10\n"
     ]
    },
    {
     "data": {
      "image/png": "[encoded data removed]",
      "text/plain": [
       "<Figure size 432x288 with 1 Axes>"
      ]
     },
     "metadata": {
      "needs_background": "light"
     },
     "output_type": "display_data"
    }
   ],
   "source": [
    "# List of DataFrames of the feature scores\n",
    "fs_ls = []\n",
    "\n",
    "# Visualize feature importance scores\n",
    "for idx, estimator in enumerate(output['estimator']):\n",
    "    print(f'Features sorted by their score for fold {idx + 1}')\n",
    "    feature_importances = pd.DataFrame(estimator.feature_importances_,\n",
    "                                      index=X.columns,\n",
    "                                      columns=['importance']).sort_values('importance', ascending=False)\n",
    "    # Plot each graph\n",
    "    feature_importances.plot(kind='bar')\n",
    "    plt.title('Feature Importance Scores')\n",
    "    plt.show()\n",
    "    \n",
    "    fs_ls.append(feature_importances)"
   ]
  },
  {
   "cell_type": "code",
   "execution_count": 60,
   "metadata": {},
   "outputs": [],
   "source": [
    "fs_avg_df = pd.concat(fs_ls).groupby(level=0).mean()"
   ]
  },
  {
   "cell_type": "code",
   "execution_count": 61,
   "metadata": {},
   "outputs": [],
   "source": [
    "fs_avg_df.sort_values('importance', ascending=False, inplace=True)"
   ]
  },
  {
   "cell_type": "code",
   "execution_count": 62,
   "metadata": {},
   "outputs": [
    {
     "data": {
      "image/png": "[encoded data removed]",
      "text/plain": [
       "<Figure size 432x288 with 1 Axes>"
      ]
     },
     "metadata": {
      "needs_background": "light"
     },
     "output_type": "display_data"
    }
   ],
   "source": [
    "fs_avg_df.plot(kind='bar')\n",
    "plt.title('Average Feature Importance Scores')\n",
    "plt.show()"
   ]
  },
  {
   "cell_type": "code",
   "execution_count": null,
   "metadata": {},
   "outputs": [],
   "source": []
  }
 ],
 "metadata": {
  "kernelspec": {
   "display_name": "Python 3",
   "language": "python",
   "name": "python3"
  },
  "language_info": {
   "codemirror_mode": {
    "name": "ipython",
    "version": 3
   },
   "file_extension": ".py",
   "mimetype": "text/x-python",
   "name": "python",
   "nbconvert_exporter": "python",
   "pygments_lexer": "ipython3",
   "version": "3.6.5"
  }
 },
 "nbformat": 4,
 "nbformat_minor": 4
}
